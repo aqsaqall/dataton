{
  "cells": [
    {
      "cell_type": "code",
      "execution_count": 49,
      "id": "54b351a4",
      "metadata": {
        "id": "54b351a4"
      },
      "outputs": [],
      "source": [
        "import os\n",
        "import numpy as np\n",
        "import pandas as pd\n",
        "import matplotlib.pyplot as plt\n",
        "import math\n"
      ]
    },
    {
      "cell_type": "code",
      "execution_count": 50,
      "id": "093e1b17",
      "metadata": {
        "id": "093e1b17"
      },
      "outputs": [],
      "source": [
        "from sklearn.pipeline import Pipeline\n",
        "from sklearn.compose import ColumnTransformer\n",
        "from sklearn.model_selection import train_test_split, cross_validate\n",
        "from sklearn.metrics import plot_confusion_matrix, accuracy_score\n",
        "from sklearn.neighbors import KNeighborsClassifier\n",
        "from sklearn.preprocessing import StandardScaler, OneHotEncoder, PolynomialFeatures, Normalizer\n",
        "from sklearn.linear_model import LogisticRegression\n",
        "from sklearn.compose import make_column_transformer\n",
        "from sklearn.metrics import f1_score\n",
        "from sklearn.ensemble import RandomForestClassifier\n",
        "from sklearn.ensemble import GradientBoostingClassifier\n",
        "from sklearn.ensemble import HistGradientBoostingClassifier"
      ]
    },
    {
      "cell_type": "code",
      "execution_count": 51,
      "id": "2e645751",
      "metadata": {
        "colab": {
          "base_uri": "https://localhost:8080/",
          "height": 488
        },
        "id": "2e645751",
        "outputId": "26cf86c8-c87d-4548-a168-07050e230dac"
      },
      "outputs": [
        {
          "output_type": "execute_result",
          "data": {
            "text/plain": [
              "        client_id  cato_code  gender  country  citizenship  age_days  \\\n",
              "0         2152686       17.0     1.0      0.0          0.0   11643.0   \n",
              "1         1712777        2.0     NaN      0.0          0.0   18095.0   \n",
              "2          458915        NaN     0.0      0.0          0.0    7955.0   \n",
              "3          530220        NaN     0.0      0.0          0.0   22580.0   \n",
              "4         1103654       12.0     0.0      0.0          0.0   13107.0   \n",
              "...           ...        ...     ...      ...          ...       ...   \n",
              "941526    1244050        6.0     1.0      0.0          0.0   11813.0   \n",
              "941527    1142266       12.0     0.0      0.0          0.0   11573.0   \n",
              "941528    1327217        9.0     1.0      0.0          0.0   11268.0   \n",
              "941529    1634056        5.0     1.0      0.0          NaN   17215.0   \n",
              "941530    1213193        1.0     0.0      0.0          0.0   10132.0   \n",
              "\n",
              "        client_days  opsos_code  phone_digits  max_dup  ...  salary_10  \\\n",
              "0             130.0         9.0           5.0      1.0  ...        NaN   \n",
              "1             994.0         5.0           5.0      1.0  ...        NaN   \n",
              "2            1144.0         7.0           5.0      1.0  ...        NaN   \n",
              "3             847.0         0.0           6.0      1.0  ...   0.036560   \n",
              "4             547.0        12.0           6.0      1.0  ...        NaN   \n",
              "...             ...         ...           ...      ...  ...        ...   \n",
              "941526        462.0         8.0           4.0      1.0  ...        NaN   \n",
              "941527        787.0         8.0           3.0      2.0  ...        NaN   \n",
              "941528        455.0        11.0           4.0      1.0  ...        NaN   \n",
              "941529        400.0        10.0           4.0      1.0  ...   0.038471   \n",
              "941530        709.0        12.0           5.0      1.0  ...        NaN   \n",
              "\n",
              "       transfers_amount_in_8  transfers_count_in_8  transfers_amount_out_8  \\\n",
              "0                        NaN                   NaN                     NaN   \n",
              "1                        NaN                   NaN                     NaN   \n",
              "2                        NaN                   NaN                     NaN   \n",
              "3                        NaN                   NaN                     NaN   \n",
              "4                        NaN                   NaN                     NaN   \n",
              "...                      ...                   ...                     ...   \n",
              "941526                   NaN                   NaN                     NaN   \n",
              "941527                   NaN                   NaN                     NaN   \n",
              "941528                   NaN                   NaN                     NaN   \n",
              "941529                   NaN                   NaN                     NaN   \n",
              "941530                   NaN                   NaN                     NaN   \n",
              "\n",
              "        transfers_count_out_8  transactions_amount_8  transactions_count_8  \\\n",
              "0                         NaN                    NaN                   NaN   \n",
              "1                         NaN                    NaN                   NaN   \n",
              "2                         NaN               0.037251              0.033580   \n",
              "3                         NaN               0.115086              0.033581   \n",
              "4                         NaN                    NaN                   NaN   \n",
              "...                       ...                    ...                   ...   \n",
              "941526                    NaN                    NaN                   NaN   \n",
              "941527                    NaN                    NaN                   NaN   \n",
              "941528                    NaN                    NaN                   NaN   \n",
              "941529                    NaN               0.041267              0.033580   \n",
              "941530                    NaN                    NaN                   NaN   \n",
              "\n",
              "       auth_count_8  salary_8  label  \n",
              "0               NaN       NaN      0  \n",
              "1               NaN       NaN      0  \n",
              "2           0.03358       NaN      0  \n",
              "3           0.03358  0.092161      0  \n",
              "4               NaN       NaN      0  \n",
              "...             ...       ...    ...  \n",
              "941526          NaN       NaN      0  \n",
              "941527          NaN       NaN      0  \n",
              "941528      0.03358       NaN      0  \n",
              "941529      0.03358  0.037430      0  \n",
              "941530          NaN       NaN      0  \n",
              "\n",
              "[941531 rows x 48 columns]"
            ],
            "text/html": [
              "\n",
              "  <div id=\"df-d38e284e-aacf-4bbf-9471-1ad1d028d4e5\">\n",
              "    <div class=\"colab-df-container\">\n",
              "      <div>\n",
              "<style scoped>\n",
              "    .dataframe tbody tr th:only-of-type {\n",
              "        vertical-align: middle;\n",
              "    }\n",
              "\n",
              "    .dataframe tbody tr th {\n",
              "        vertical-align: top;\n",
              "    }\n",
              "\n",
              "    .dataframe thead th {\n",
              "        text-align: right;\n",
              "    }\n",
              "</style>\n",
              "<table border=\"1\" class=\"dataframe\">\n",
              "  <thead>\n",
              "    <tr style=\"text-align: right;\">\n",
              "      <th></th>\n",
              "      <th>client_id</th>\n",
              "      <th>cato_code</th>\n",
              "      <th>gender</th>\n",
              "      <th>country</th>\n",
              "      <th>citizenship</th>\n",
              "      <th>age_days</th>\n",
              "      <th>client_days</th>\n",
              "      <th>opsos_code</th>\n",
              "      <th>phone_digits</th>\n",
              "      <th>max_dup</th>\n",
              "      <th>...</th>\n",
              "      <th>salary_10</th>\n",
              "      <th>transfers_amount_in_8</th>\n",
              "      <th>transfers_count_in_8</th>\n",
              "      <th>transfers_amount_out_8</th>\n",
              "      <th>transfers_count_out_8</th>\n",
              "      <th>transactions_amount_8</th>\n",
              "      <th>transactions_count_8</th>\n",
              "      <th>auth_count_8</th>\n",
              "      <th>salary_8</th>\n",
              "      <th>label</th>\n",
              "    </tr>\n",
              "  </thead>\n",
              "  <tbody>\n",
              "    <tr>\n",
              "      <th>0</th>\n",
              "      <td>2152686</td>\n",
              "      <td>17.0</td>\n",
              "      <td>1.0</td>\n",
              "      <td>0.0</td>\n",
              "      <td>0.0</td>\n",
              "      <td>11643.0</td>\n",
              "      <td>130.0</td>\n",
              "      <td>9.0</td>\n",
              "      <td>5.0</td>\n",
              "      <td>1.0</td>\n",
              "      <td>...</td>\n",
              "      <td>NaN</td>\n",
              "      <td>NaN</td>\n",
              "      <td>NaN</td>\n",
              "      <td>NaN</td>\n",
              "      <td>NaN</td>\n",
              "      <td>NaN</td>\n",
              "      <td>NaN</td>\n",
              "      <td>NaN</td>\n",
              "      <td>NaN</td>\n",
              "      <td>0</td>\n",
              "    </tr>\n",
              "    <tr>\n",
              "      <th>1</th>\n",
              "      <td>1712777</td>\n",
              "      <td>2.0</td>\n",
              "      <td>NaN</td>\n",
              "      <td>0.0</td>\n",
              "      <td>0.0</td>\n",
              "      <td>18095.0</td>\n",
              "      <td>994.0</td>\n",
              "      <td>5.0</td>\n",
              "      <td>5.0</td>\n",
              "      <td>1.0</td>\n",
              "      <td>...</td>\n",
              "      <td>NaN</td>\n",
              "      <td>NaN</td>\n",
              "      <td>NaN</td>\n",
              "      <td>NaN</td>\n",
              "      <td>NaN</td>\n",
              "      <td>NaN</td>\n",
              "      <td>NaN</td>\n",
              "      <td>NaN</td>\n",
              "      <td>NaN</td>\n",
              "      <td>0</td>\n",
              "    </tr>\n",
              "    <tr>\n",
              "      <th>2</th>\n",
              "      <td>458915</td>\n",
              "      <td>NaN</td>\n",
              "      <td>0.0</td>\n",
              "      <td>0.0</td>\n",
              "      <td>0.0</td>\n",
              "      <td>7955.0</td>\n",
              "      <td>1144.0</td>\n",
              "      <td>7.0</td>\n",
              "      <td>5.0</td>\n",
              "      <td>1.0</td>\n",
              "      <td>...</td>\n",
              "      <td>NaN</td>\n",
              "      <td>NaN</td>\n",
              "      <td>NaN</td>\n",
              "      <td>NaN</td>\n",
              "      <td>NaN</td>\n",
              "      <td>0.037251</td>\n",
              "      <td>0.033580</td>\n",
              "      <td>0.03358</td>\n",
              "      <td>NaN</td>\n",
              "      <td>0</td>\n",
              "    </tr>\n",
              "    <tr>\n",
              "      <th>3</th>\n",
              "      <td>530220</td>\n",
              "      <td>NaN</td>\n",
              "      <td>0.0</td>\n",
              "      <td>0.0</td>\n",
              "      <td>0.0</td>\n",
              "      <td>22580.0</td>\n",
              "      <td>847.0</td>\n",
              "      <td>0.0</td>\n",
              "      <td>6.0</td>\n",
              "      <td>1.0</td>\n",
              "      <td>...</td>\n",
              "      <td>0.036560</td>\n",
              "      <td>NaN</td>\n",
              "      <td>NaN</td>\n",
              "      <td>NaN</td>\n",
              "      <td>NaN</td>\n",
              "      <td>0.115086</td>\n",
              "      <td>0.033581</td>\n",
              "      <td>0.03358</td>\n",
              "      <td>0.092161</td>\n",
              "      <td>0</td>\n",
              "    </tr>\n",
              "    <tr>\n",
              "      <th>4</th>\n",
              "      <td>1103654</td>\n",
              "      <td>12.0</td>\n",
              "      <td>0.0</td>\n",
              "      <td>0.0</td>\n",
              "      <td>0.0</td>\n",
              "      <td>13107.0</td>\n",
              "      <td>547.0</td>\n",
              "      <td>12.0</td>\n",
              "      <td>6.0</td>\n",
              "      <td>1.0</td>\n",
              "      <td>...</td>\n",
              "      <td>NaN</td>\n",
              "      <td>NaN</td>\n",
              "      <td>NaN</td>\n",
              "      <td>NaN</td>\n",
              "      <td>NaN</td>\n",
              "      <td>NaN</td>\n",
              "      <td>NaN</td>\n",
              "      <td>NaN</td>\n",
              "      <td>NaN</td>\n",
              "      <td>0</td>\n",
              "    </tr>\n",
              "    <tr>\n",
              "      <th>...</th>\n",
              "      <td>...</td>\n",
              "      <td>...</td>\n",
              "      <td>...</td>\n",
              "      <td>...</td>\n",
              "      <td>...</td>\n",
              "      <td>...</td>\n",
              "      <td>...</td>\n",
              "      <td>...</td>\n",
              "      <td>...</td>\n",
              "      <td>...</td>\n",
              "      <td>...</td>\n",
              "      <td>...</td>\n",
              "      <td>...</td>\n",
              "      <td>...</td>\n",
              "      <td>...</td>\n",
              "      <td>...</td>\n",
              "      <td>...</td>\n",
              "      <td>...</td>\n",
              "      <td>...</td>\n",
              "      <td>...</td>\n",
              "      <td>...</td>\n",
              "    </tr>\n",
              "    <tr>\n",
              "      <th>941526</th>\n",
              "      <td>1244050</td>\n",
              "      <td>6.0</td>\n",
              "      <td>1.0</td>\n",
              "      <td>0.0</td>\n",
              "      <td>0.0</td>\n",
              "      <td>11813.0</td>\n",
              "      <td>462.0</td>\n",
              "      <td>8.0</td>\n",
              "      <td>4.0</td>\n",
              "      <td>1.0</td>\n",
              "      <td>...</td>\n",
              "      <td>NaN</td>\n",
              "      <td>NaN</td>\n",
              "      <td>NaN</td>\n",
              "      <td>NaN</td>\n",
              "      <td>NaN</td>\n",
              "      <td>NaN</td>\n",
              "      <td>NaN</td>\n",
              "      <td>NaN</td>\n",
              "      <td>NaN</td>\n",
              "      <td>0</td>\n",
              "    </tr>\n",
              "    <tr>\n",
              "      <th>941527</th>\n",
              "      <td>1142266</td>\n",
              "      <td>12.0</td>\n",
              "      <td>0.0</td>\n",
              "      <td>0.0</td>\n",
              "      <td>0.0</td>\n",
              "      <td>11573.0</td>\n",
              "      <td>787.0</td>\n",
              "      <td>8.0</td>\n",
              "      <td>3.0</td>\n",
              "      <td>2.0</td>\n",
              "      <td>...</td>\n",
              "      <td>NaN</td>\n",
              "      <td>NaN</td>\n",
              "      <td>NaN</td>\n",
              "      <td>NaN</td>\n",
              "      <td>NaN</td>\n",
              "      <td>NaN</td>\n",
              "      <td>NaN</td>\n",
              "      <td>NaN</td>\n",
              "      <td>NaN</td>\n",
              "      <td>0</td>\n",
              "    </tr>\n",
              "    <tr>\n",
              "      <th>941528</th>\n",
              "      <td>1327217</td>\n",
              "      <td>9.0</td>\n",
              "      <td>1.0</td>\n",
              "      <td>0.0</td>\n",
              "      <td>0.0</td>\n",
              "      <td>11268.0</td>\n",
              "      <td>455.0</td>\n",
              "      <td>11.0</td>\n",
              "      <td>4.0</td>\n",
              "      <td>1.0</td>\n",
              "      <td>...</td>\n",
              "      <td>NaN</td>\n",
              "      <td>NaN</td>\n",
              "      <td>NaN</td>\n",
              "      <td>NaN</td>\n",
              "      <td>NaN</td>\n",
              "      <td>NaN</td>\n",
              "      <td>NaN</td>\n",
              "      <td>0.03358</td>\n",
              "      <td>NaN</td>\n",
              "      <td>0</td>\n",
              "    </tr>\n",
              "    <tr>\n",
              "      <th>941529</th>\n",
              "      <td>1634056</td>\n",
              "      <td>5.0</td>\n",
              "      <td>1.0</td>\n",
              "      <td>0.0</td>\n",
              "      <td>NaN</td>\n",
              "      <td>17215.0</td>\n",
              "      <td>400.0</td>\n",
              "      <td>10.0</td>\n",
              "      <td>4.0</td>\n",
              "      <td>1.0</td>\n",
              "      <td>...</td>\n",
              "      <td>0.038471</td>\n",
              "      <td>NaN</td>\n",
              "      <td>NaN</td>\n",
              "      <td>NaN</td>\n",
              "      <td>NaN</td>\n",
              "      <td>0.041267</td>\n",
              "      <td>0.033580</td>\n",
              "      <td>0.03358</td>\n",
              "      <td>0.037430</td>\n",
              "      <td>0</td>\n",
              "    </tr>\n",
              "    <tr>\n",
              "      <th>941530</th>\n",
              "      <td>1213193</td>\n",
              "      <td>1.0</td>\n",
              "      <td>0.0</td>\n",
              "      <td>0.0</td>\n",
              "      <td>0.0</td>\n",
              "      <td>10132.0</td>\n",
              "      <td>709.0</td>\n",
              "      <td>12.0</td>\n",
              "      <td>5.0</td>\n",
              "      <td>1.0</td>\n",
              "      <td>...</td>\n",
              "      <td>NaN</td>\n",
              "      <td>NaN</td>\n",
              "      <td>NaN</td>\n",
              "      <td>NaN</td>\n",
              "      <td>NaN</td>\n",
              "      <td>NaN</td>\n",
              "      <td>NaN</td>\n",
              "      <td>NaN</td>\n",
              "      <td>NaN</td>\n",
              "      <td>0</td>\n",
              "    </tr>\n",
              "  </tbody>\n",
              "</table>\n",
              "<p>941531 rows × 48 columns</p>\n",
              "</div>\n",
              "      <button class=\"colab-df-convert\" onclick=\"convertToInteractive('df-d38e284e-aacf-4bbf-9471-1ad1d028d4e5')\"\n",
              "              title=\"Convert this dataframe to an interactive table.\"\n",
              "              style=\"display:none;\">\n",
              "        \n",
              "  <svg xmlns=\"http://www.w3.org/2000/svg\" height=\"24px\"viewBox=\"0 0 24 24\"\n",
              "       width=\"24px\">\n",
              "    <path d=\"M0 0h24v24H0V0z\" fill=\"none\"/>\n",
              "    <path d=\"M18.56 5.44l.94 2.06.94-2.06 2.06-.94-2.06-.94-.94-2.06-.94 2.06-2.06.94zm-11 1L8.5 8.5l.94-2.06 2.06-.94-2.06-.94L8.5 2.5l-.94 2.06-2.06.94zm10 10l.94 2.06.94-2.06 2.06-.94-2.06-.94-.94-2.06-.94 2.06-2.06.94z\"/><path d=\"M17.41 7.96l-1.37-1.37c-.4-.4-.92-.59-1.43-.59-.52 0-1.04.2-1.43.59L10.3 9.45l-7.72 7.72c-.78.78-.78 2.05 0 2.83L4 21.41c.39.39.9.59 1.41.59.51 0 1.02-.2 1.41-.59l7.78-7.78 2.81-2.81c.8-.78.8-2.07 0-2.86zM5.41 20L4 18.59l7.72-7.72 1.47 1.35L5.41 20z\"/>\n",
              "  </svg>\n",
              "      </button>\n",
              "      \n",
              "  <style>\n",
              "    .colab-df-container {\n",
              "      display:flex;\n",
              "      flex-wrap:wrap;\n",
              "      gap: 12px;\n",
              "    }\n",
              "\n",
              "    .colab-df-convert {\n",
              "      background-color: #E8F0FE;\n",
              "      border: none;\n",
              "      border-radius: 50%;\n",
              "      cursor: pointer;\n",
              "      display: none;\n",
              "      fill: #1967D2;\n",
              "      height: 32px;\n",
              "      padding: 0 0 0 0;\n",
              "      width: 32px;\n",
              "    }\n",
              "\n",
              "    .colab-df-convert:hover {\n",
              "      background-color: #E2EBFA;\n",
              "      box-shadow: 0px 1px 2px rgba(60, 64, 67, 0.3), 0px 1px 3px 1px rgba(60, 64, 67, 0.15);\n",
              "      fill: #174EA6;\n",
              "    }\n",
              "\n",
              "    [theme=dark] .colab-df-convert {\n",
              "      background-color: #3B4455;\n",
              "      fill: #D2E3FC;\n",
              "    }\n",
              "\n",
              "    [theme=dark] .colab-df-convert:hover {\n",
              "      background-color: #434B5C;\n",
              "      box-shadow: 0px 1px 3px 1px rgba(0, 0, 0, 0.15);\n",
              "      filter: drop-shadow(0px 1px 2px rgba(0, 0, 0, 0.3));\n",
              "      fill: #FFFFFF;\n",
              "    }\n",
              "  </style>\n",
              "\n",
              "      <script>\n",
              "        const buttonEl =\n",
              "          document.querySelector('#df-d38e284e-aacf-4bbf-9471-1ad1d028d4e5 button.colab-df-convert');\n",
              "        buttonEl.style.display =\n",
              "          google.colab.kernel.accessAllowed ? 'block' : 'none';\n",
              "\n",
              "        async function convertToInteractive(key) {\n",
              "          const element = document.querySelector('#df-d38e284e-aacf-4bbf-9471-1ad1d028d4e5');\n",
              "          const dataTable =\n",
              "            await google.colab.kernel.invokeFunction('convertToInteractive',\n",
              "                                                     [key], {});\n",
              "          if (!dataTable) return;\n",
              "\n",
              "          const docLinkHtml = 'Like what you see? Visit the ' +\n",
              "            '<a target=\"_blank\" href=https://colab.research.google.com/notebooks/data_table.ipynb>data table notebook</a>'\n",
              "            + ' to learn more about interactive tables.';\n",
              "          element.innerHTML = '';\n",
              "          dataTable['output_type'] = 'display_data';\n",
              "          await google.colab.output.renderOutput(dataTable, element);\n",
              "          const docLink = document.createElement('div');\n",
              "          docLink.innerHTML = docLinkHtml;\n",
              "          element.appendChild(docLink);\n",
              "        }\n",
              "      </script>\n",
              "    </div>\n",
              "  </div>\n",
              "  "
            ]
          },
          "metadata": {},
          "execution_count": 51
        }
      ],
      "source": [
        "data = pd.read_csv('train_data.csv')\n",
        "data"
      ]
    },
    {
      "cell_type": "code",
      "execution_count": 52,
      "id": "e40c905d",
      "metadata": {
        "id": "e40c905d"
      },
      "outputs": [],
      "source": [
        "data['in_kaz'] = data['country'] == 0"
      ]
    },
    {
      "cell_type": "code",
      "execution_count": 53,
      "id": "4893fdc6",
      "metadata": {
        "id": "4893fdc6"
      },
      "outputs": [],
      "source": [
        "data['is_kaz'] = data['citizenship'] == 0"
      ]
    },
    {
      "cell_type": "code",
      "execution_count": 54,
      "id": "e1e35d78",
      "metadata": {
        "colab": {
          "base_uri": "https://localhost:8080/"
        },
        "id": "e1e35d78",
        "outputId": "92ba483a-b4ca-46ba-fd7f-d86c0bff018f"
      },
      "outputs": [
        {
          "output_type": "execute_result",
          "data": {
            "text/plain": [
              "1.0"
            ]
          },
          "metadata": {},
          "execution_count": 54
        }
      ],
      "source": [
        "data['gender'].median()"
      ]
    },
    {
      "cell_type": "code",
      "execution_count": 55,
      "id": "6becc3e5",
      "metadata": {
        "id": "6becc3e5"
      },
      "outputs": [],
      "source": [
        "fillmedian = ['client_days', 'gender', 'client_days', 'age_days', 'opsos_code', 'phone_digits', 'max_dup']\n",
        "fillzero = ['cato_code', 'country', 'citizenship']"
      ]
    },
    {
      "cell_type": "code",
      "execution_count": 56,
      "id": "78cade7a",
      "metadata": {
        "id": "78cade7a"
      },
      "outputs": [],
      "source": [
        "data.fillna(data[fillmedian].median(), inplace = True)"
      ]
    },
    {
      "cell_type": "code",
      "execution_count": 57,
      "id": "f24bf59a",
      "metadata": {
        "id": "f24bf59a"
      },
      "outputs": [],
      "source": [
        "data[fillzero] = data[fillzero].fillna(0)"
      ]
    },
    {
      "cell_type": "code",
      "execution_count": 58,
      "id": "ddb08c9c",
      "metadata": {
        "id": "ddb08c9c"
      },
      "outputs": [],
      "source": [
        "data['age'] = data['age_days'] / 365"
      ]
    },
    {
      "cell_type": "code",
      "execution_count": 59,
      "id": "b1e1f9ec",
      "metadata": {
        "id": "b1e1f9ec"
      },
      "outputs": [],
      "source": [
        "data['is_child'] = data['age'] < 18\n",
        "data['is_adult'] = (data['age'] >= 18) & (data['age'] < 60)\n",
        "data['is_old'] = data['age'] >= 60"
      ]
    },
    {
      "cell_type": "code",
      "execution_count": 60,
      "id": "e0644ded",
      "metadata": {
        "id": "e0644ded"
      },
      "outputs": [],
      "source": [
        "data['have_installment'] = (pd.isnull(data['monthly_installment']))"
      ]
    },
    {
      "cell_type": "code",
      "execution_count": 61,
      "id": "da83cd49",
      "metadata": {
        "id": "da83cd49"
      },
      "outputs": [],
      "source": [
        "data['have_deposit'] = (pd.isnull(data['deposit_sum_KZT']))"
      ]
    },
    {
      "cell_type": "code",
      "execution_count": 62,
      "id": "7ca62563",
      "metadata": {
        "id": "7ca62563"
      },
      "outputs": [],
      "source": [
        "data['have_deal'] = (pd.isnull(data['deal_sum_kzt_express']))"
      ]
    },
    {
      "cell_type": "code",
      "execution_count": 63,
      "id": "aafa4580",
      "metadata": {
        "id": "aafa4580"
      },
      "outputs": [],
      "source": [
        "data['have_product'] = (pd.isnull(data['deal_sum_kzt_product']))"
      ]
    },
    {
      "cell_type": "code",
      "execution_count": 64,
      "id": "e755235f",
      "metadata": {
        "id": "e755235f"
      },
      "outputs": [],
      "source": [
        "data[['deal_sum_kzt_express', 'monthly_installment','transfers_amount_in_9', 'transfers_amount_in_10', 'transfers_amount_in_8',\n",
        "                  'transfers_count_in_9', 'transfers_count_in_10', 'transfers_count_in_8',\n",
        "                  'transfers_amount_out_9', 'transfers_amount_out_10', 'transfers_amount_out_8',\n",
        "                 'transfers_count_out_9', 'transfers_count_out_10', 'transfers_count_out_8',\n",
        "                  'transactions_amount_9', 'transactions_amount_10', 'transactions_amount_8',\n",
        "                  'transactions_count_9', 'transactions_count_10', 'transactions_count_8',\n",
        "                  'auth_count_9', 'auth_count_10', 'auth_count_8', \n",
        "                  'salary_9', 'salary_10', 'salary_8']] = data[['deal_sum_kzt_express', 'monthly_installment','transfers_amount_in_9', 'transfers_amount_in_10', 'transfers_amount_in_8',\n",
        "                  'transfers_count_in_9', 'transfers_count_in_10', 'transfers_count_in_8',\n",
        "                  'transfers_amount_out_9', 'transfers_amount_out_10', 'transfers_amount_out_8',\n",
        "                 'transfers_count_out_9', 'transfers_count_out_10', 'transfers_count_out_8',\n",
        "                  'transactions_amount_9', 'transactions_amount_10', 'transactions_amount_8',\n",
        "                'transactions_count_9', 'transactions_count_10', 'transactions_count_8',\n",
        "                  'auth_count_9', 'auth_count_10', 'auth_count_8', \n",
        "                  'salary_9', 'salary_10', 'salary_8']].fillna(0)"
      ]
    },
    {
      "cell_type": "code",
      "execution_count": 65,
      "id": "4d5aac23",
      "metadata": {
        "id": "4d5aac23"
      },
      "outputs": [],
      "source": [
        "data['transfers_amount_in'] = data[['transfers_amount_in_9','transfers_amount_in_10','transfers_amount_in_8']].max(axis = 1)\n",
        "data['transfers_count_in'] = data[['transfers_count_in_9','transfers_count_in_10','transfers_count_in_8']].max(axis = 1)\n",
        "data['transfers_amount_out'] = data[['transfers_amount_out_9','transfers_amount_out_10','transfers_amount_out_8']].max(axis = 1)\n",
        "data['transfers_count_out'] = data[['transfers_count_out_9','transfers_count_out_10','transfers_count_out_8']].max(axis = 1)\n",
        "data['transactions_amount'] = data[['transactions_amount_9','transactions_amount_10','transactions_amount_8']].max(axis = 1)\n",
        "data['transactions_count'] = data[['transactions_count_9','transactions_count_10','transactions_count_8']].max(axis = 1)\n",
        "data['auth_count'] = data[['auth_count_9','auth_count_10','auth_count_8']].max(axis = 1)\n",
        "data['salary'] = data[['salary_9','salary_10','salary_8']].max(axis = 1)"
      ]
    },
    {
      "cell_type": "code",
      "execution_count": 66,
      "id": "a55756c6",
      "metadata": {
        "id": "a55756c6"
      },
      "outputs": [],
      "source": [
        "data = data.drop(['transfers_amount_in_9', 'transfers_amount_in_10', 'transfers_amount_in_8',\n",
        "                  'transfers_count_in_9', 'transfers_count_in_10', 'transfers_count_in_8',\n",
        "                  'transfers_amount_out_9', 'transfers_amount_out_10', 'transfers_amount_out_8',\n",
        "                 'transfers_count_out_9', 'transfers_count_out_10', 'transfers_count_out_8',\n",
        "                  'transactions_amount_9', 'transactions_amount_10', 'transactions_amount_8',\n",
        "                'transactions_count_9', 'transactions_count_10', 'transactions_count_8',\n",
        "                  'auth_count_9', 'auth_count_10', 'auth_count_8', \n",
        "                  'salary_9', 'salary_10', 'salary_8'], axis=1)"
      ]
    },
    {
      "cell_type": "code",
      "source": [
        "data['date_close'] = pd.to_datetime(data['date_close'])\n",
        "data['date_close_year'] = 2022 - data['date_close'].dt.year\n",
        "data['date_close_month'] = data['date_close'].dt.month\n",
        "data = data.drop('date_close', axis=1)\n",
        "data['deal_start_date_express'] = pd.to_datetime(data['deal_start_date_express'])\n",
        "data['deal_start_date_express_year'] = 2022 - data['deal_start_date_express'].dt.year\n",
        "data['deal_start_date_express_month'] = data['deal_start_date_express'].dt.month\n",
        "data = data.drop('deal_start_date_express', axis=1)\n",
        "data['plan_end_date_express'] = pd.to_datetime(data['plan_end_date_express'])\n",
        "data['plan_end_date_express_year'] = 2022 - data['plan_end_date_express'].dt.year\n",
        "data['plan_end_date_express_month'] = data['plan_end_date_express'].dt.month\n",
        "data = data.drop('plan_end_date_express', axis=1)\n",
        "data['deal_start_date_product'] = pd.to_datetime(data['deal_start_date_product'])\n",
        "data['deal_start_date_product_year'] = 2022 -data['deal_start_date_product'].dt.year\n",
        "data['deal_start_date_product_month'] = data['deal_start_date_product'].dt.month\n",
        "data = data.drop('deal_start_date_product', axis=1)\n",
        "data['plan_end_date_product'] = pd.to_datetime(data['plan_end_date_product'])\n",
        "data['plan_end_date_product_year'] = 2022 - data['plan_end_date_product'].dt.year\n",
        "data['plan_end_date_product_month'] = data['plan_end_date_product'].dt.month\n",
        "data = data.drop('plan_end_date_product', axis=1)"
      ],
      "metadata": {
        "id": "ErBVDEVgk3hX"
      },
      "id": "ErBVDEVgk3hX",
      "execution_count": 67,
      "outputs": []
    },
    {
      "cell_type": "code",
      "source": [
        "data[['date_close_year', 'deal_start_date_express_year', 'plan_end_date_express_year',\n",
        "      'deal_start_date_product_year', 'plan_end_date_product_year']] = data[['date_close_year', 'deal_start_date_express_year', 'plan_end_date_express_year',\n",
        "      'deal_start_date_product_year', 'plan_end_date_product_year']].fillna(0)\n",
        "data[['date_close_month', 'deal_start_date_express_month', 'plan_end_date_express_month',\n",
        "      'deal_start_date_product_month', 'plan_end_date_product_month']] = data[['date_close_month', 'deal_start_date_express_month', 'plan_end_date_express_month',\n",
        "      'deal_start_date_product_month', 'plan_end_date_product_month']].fillna(0)\n"
      ],
      "metadata": {
        "id": "O6g-81HVng6V"
      },
      "id": "O6g-81HVng6V",
      "execution_count": 68,
      "outputs": []
    },
    {
      "cell_type": "code",
      "source": [
        "data[['deposit_sum_KZT', 'deposit_sum_USD', 'deposit_sum_EUR']] = data[['deposit_sum_KZT', 'deposit_sum_USD', 'deposit_sum_EUR']].fillna(0)"
      ],
      "metadata": {
        "id": "3WGuHXSxnutr"
      },
      "id": "3WGuHXSxnutr",
      "execution_count": 69,
      "outputs": []
    },
    {
      "cell_type": "code",
      "execution_count": 70,
      "id": "c5a5dfb8",
      "metadata": {
        "id": "c5a5dfb8"
      },
      "outputs": [],
      "source": [
        "num_features=['deal_sum_kzt_express', 'monthly_installment', 'client_days', 'phone_digits', 'max_dup',\n",
        "             'transfers_amount_in', 'transfers_count_in', 'transfers_amount_out',\n",
        "              'transfers_count_out', 'transactions_amount', 'transactions_count',\n",
        "              'auth_count','salary', 'deposit_sum_KZT', 'deposit_sum_USD', 'deposit_sum_EUR']\n",
        "cat_features = ['cato_code', 'gender', 'is_kaz', 'in_kaz', 'is_child', 'is_adult', 'is_old',\n",
        "             'have_installment', 'have_deposit', 'have_deal', 'have_product', 'date_close_year',\n",
        "             'deal_start_date_express_year', 'plan_end_date_express_year',\n",
        "             'deal_start_date_product_year', 'plan_end_date_product_year', 'date_close_month', 'deal_start_date_express_month', 'plan_end_date_express_month',\n",
        "      'deal_start_date_product_month', 'plan_end_date_product_month']\n",
        "target='label'"
      ]
    },
    {
      "cell_type": "code",
      "execution_count": 71,
      "id": "46d617e6",
      "metadata": {
        "id": "46d617e6"
      },
      "outputs": [],
      "source": [
        "preprocessor = make_column_transformer(\n",
        "            (StandardScaler(), num_features),\n",
        "            (OneHotEncoder(), cat_features),\n",
        "            sparse_threshold=100)"
      ]
    },
    {
      "cell_type": "code",
      "execution_count": 72,
      "id": "86e0e230",
      "metadata": {
        "id": "86e0e230"
      },
      "outputs": [],
      "source": [
        "X = data[num_features+cat_features]\n",
        "y = data[target]\n",
        "X = preprocessor.fit_transform(X)"
      ]
    },
    {
      "cell_type": "code",
      "source": [
        "X_train, X_tests, y_train, y_tests = train_test_split(X, y, test_size=0.05, stratify=y)"
      ],
      "metadata": {
        "id": "8oBwlGSrYqYt"
      },
      "id": "8oBwlGSrYqYt",
      "execution_count": 73,
      "outputs": []
    },
    {
      "cell_type": "code",
      "source": [
        "X_tests.shape"
      ],
      "metadata": {
        "id": "OA5GFsr1ZhEL",
        "colab": {
          "base_uri": "https://localhost:8080/"
        },
        "outputId": "abd9a150-5d16-4407-9922-38e660bc0715"
      },
      "id": "OA5GFsr1ZhEL",
      "execution_count": 74,
      "outputs": [
        {
          "output_type": "execute_result",
          "data": {
            "text/plain": [
              "(47077, 158)"
            ]
          },
          "metadata": {},
          "execution_count": 74
        }
      ]
    },
    {
      "cell_type": "code",
      "source": [
        "X_train.shape"
      ],
      "metadata": {
        "id": "OCmROFygajss",
        "colab": {
          "base_uri": "https://localhost:8080/"
        },
        "outputId": "3bfd10c7-69e5-449d-c159-812ade37bc73"
      },
      "id": "OCmROFygajss",
      "execution_count": 75,
      "outputs": [
        {
          "output_type": "execute_result",
          "data": {
            "text/plain": [
              "(894454, 158)"
            ]
          },
          "metadata": {},
          "execution_count": 75
        }
      ]
    },
    {
      "cell_type": "code",
      "source": [
        "from keras.models import Sequential\n",
        "from keras.layers import Conv2D, MaxPooling2D\n",
        "from keras.layers import Activation, Dropout, Flatten, Dense\n",
        "import keras\n",
        "from keras.models import Sequential\n",
        "from keras.layers import Dense\n",
        "import warnings\n",
        "import tensorflow as tf"
      ],
      "metadata": {
        "id": "Xo_b8Uom4WW2"
      },
      "id": "Xo_b8Uom4WW2",
      "execution_count": 76,
      "outputs": []
    },
    {
      "cell_type": "code",
      "source": [
        "metrics = [keras.metrics.Precision(name = 'precision'),\n",
        "           keras.metrics.Recall(name = 'recall')]"
      ],
      "metadata": {
        "id": "RtWH4nC1EJ_f"
      },
      "id": "RtWH4nC1EJ_f",
      "execution_count": 77,
      "outputs": []
    },
    {
      "cell_type": "code",
      "source": [
        "model = Sequential()\n",
        "model.add(Dense(30, input_shape=(158,), activation='relu'))\n",
        "model.add(Dense(20, activation='relu'))\n",
        "model.add(Dense(25, activation='relu'))\n",
        "model.add(Dense(1, activation='sigmoid'))"
      ],
      "metadata": {
        "id": "-BjnhFSx4bR4"
      },
      "id": "-BjnhFSx4bR4",
      "execution_count": 93,
      "outputs": []
    },
    {
      "cell_type": "code",
      "source": [
        "model.compile(loss = 'BinaryCrossentropy', optimizer=keras.optimizers.Adam(1e-2), metrics=metrics)"
      ],
      "metadata": {
        "id": "w5SgZ8OB4e_i"
      },
      "id": "w5SgZ8OB4e_i",
      "execution_count": 94,
      "outputs": []
    },
    {
      "cell_type": "code",
      "source": [
        "class_weights = {0:0.265,\n",
        "                 1:1}"
      ],
      "metadata": {
        "id": "MOdCUTdtFzZ1"
      },
      "id": "MOdCUTdtFzZ1",
      "execution_count": 95,
      "outputs": []
    },
    {
      "cell_type": "code",
      "source": [
        "from sklearn.utils import class_weight\n",
        "model.fit(X_train.toarray(), y_train, epochs=30, batch_size=1000, verbose = 1, class_weight=class_weights)"
      ],
      "metadata": {
        "id": "G15dBdz44hJW",
        "colab": {
          "base_uri": "https://localhost:8080/"
        },
        "outputId": "3bb7926d-5f04-4b94-c480-be665224bbcc"
      },
      "id": "G15dBdz44hJW",
      "execution_count": 96,
      "outputs": [
        {
          "output_type": "stream",
          "name": "stdout",
          "text": [
            "Epoch 1/30\n",
            "895/895 [==============================] - 5s 4ms/step - loss: 0.0334 - precision: 0.3550 - recall: 0.3912\n",
            "Epoch 2/30\n",
            "895/895 [==============================] - 4s 5ms/step - loss: 0.0309 - precision: 0.3655 - recall: 0.3880\n",
            "Epoch 3/30\n",
            "895/895 [==============================] - 4s 4ms/step - loss: 0.0305 - precision: 0.3711 - recall: 0.4035\n",
            "Epoch 4/30\n",
            "895/895 [==============================] - 4s 4ms/step - loss: 0.0302 - precision: 0.3826 - recall: 0.4055\n",
            "Epoch 5/30\n",
            "895/895 [==============================] - 4s 4ms/step - loss: 0.0300 - precision: 0.3947 - recall: 0.4066\n",
            "Epoch 6/30\n",
            "895/895 [==============================] - 4s 4ms/step - loss: 0.0298 - precision: 0.3927 - recall: 0.4113\n",
            "Epoch 7/30\n",
            "895/895 [==============================] - 4s 4ms/step - loss: 0.0297 - precision: 0.3963 - recall: 0.4105\n",
            "Epoch 8/30\n",
            "895/895 [==============================] - 4s 4ms/step - loss: 0.0296 - precision: 0.3998 - recall: 0.4120\n",
            "Epoch 9/30\n",
            "895/895 [==============================] - 4s 4ms/step - loss: 0.0295 - precision: 0.4014 - recall: 0.4165\n",
            "Epoch 10/30\n",
            "895/895 [==============================] - 4s 4ms/step - loss: 0.0294 - precision: 0.3993 - recall: 0.4134\n",
            "Epoch 11/30\n",
            "895/895 [==============================] - 4s 4ms/step - loss: 0.0293 - precision: 0.4063 - recall: 0.4186\n",
            "Epoch 12/30\n",
            "895/895 [==============================] - 4s 4ms/step - loss: 0.0292 - precision: 0.4059 - recall: 0.4174\n",
            "Epoch 13/30\n",
            "895/895 [==============================] - 4s 4ms/step - loss: 0.0291 - precision: 0.4025 - recall: 0.4207\n",
            "Epoch 14/30\n",
            "895/895 [==============================] - 4s 4ms/step - loss: 0.0291 - precision: 0.4033 - recall: 0.4220\n",
            "Epoch 15/30\n",
            "895/895 [==============================] - 4s 4ms/step - loss: 0.0291 - precision: 0.4072 - recall: 0.4236\n",
            "Epoch 16/30\n",
            "895/895 [==============================] - 4s 4ms/step - loss: 0.0291 - precision: 0.4059 - recall: 0.4252\n",
            "Epoch 17/30\n",
            "895/895 [==============================] - 4s 4ms/step - loss: 0.0290 - precision: 0.4096 - recall: 0.4236\n",
            "Epoch 18/30\n",
            "895/895 [==============================] - 4s 4ms/step - loss: 0.0290 - precision: 0.4102 - recall: 0.4231\n",
            "Epoch 19/30\n",
            "895/895 [==============================] - 4s 4ms/step - loss: 0.0289 - precision: 0.4113 - recall: 0.4260\n",
            "Epoch 20/30\n",
            "895/895 [==============================] - 4s 4ms/step - loss: 0.0288 - precision: 0.4082 - recall: 0.4279\n",
            "Epoch 21/30\n",
            "895/895 [==============================] - 4s 4ms/step - loss: 0.0289 - precision: 0.4112 - recall: 0.4297\n",
            "Epoch 22/30\n",
            "895/895 [==============================] - 4s 4ms/step - loss: 0.0288 - precision: 0.4087 - recall: 0.4278\n",
            "Epoch 23/30\n",
            "895/895 [==============================] - 4s 4ms/step - loss: 0.0288 - precision: 0.4133 - recall: 0.4252\n",
            "Epoch 24/30\n",
            "895/895 [==============================] - 4s 4ms/step - loss: 0.0287 - precision: 0.4154 - recall: 0.4317\n",
            "Epoch 25/30\n",
            "895/895 [==============================] - 4s 4ms/step - loss: 0.0286 - precision: 0.4095 - recall: 0.4300\n",
            "Epoch 26/30\n",
            "895/895 [==============================] - 4s 4ms/step - loss: 0.0287 - precision: 0.4144 - recall: 0.4284\n",
            "Epoch 27/30\n",
            "895/895 [==============================] - 4s 4ms/step - loss: 0.0286 - precision: 0.4142 - recall: 0.4306\n",
            "Epoch 28/30\n",
            "895/895 [==============================] - 4s 4ms/step - loss: 0.0286 - precision: 0.4158 - recall: 0.4346\n",
            "Epoch 29/30\n",
            "895/895 [==============================] - 4s 4ms/step - loss: 0.0285 - precision: 0.4109 - recall: 0.4325\n",
            "Epoch 30/30\n",
            "895/895 [==============================] - 4s 4ms/step - loss: 0.0286 - precision: 0.4139 - recall: 0.4328\n"
          ]
        },
        {
          "output_type": "execute_result",
          "data": {
            "text/plain": [
              "<keras.callbacks.History at 0x7fd928354050>"
            ]
          },
          "metadata": {},
          "execution_count": 96
        }
      ]
    },
    {
      "cell_type": "code",
      "source": [
        "y_res = model.predict(X_tests.toarray()) "
      ],
      "metadata": {
        "id": "4OoQnkpE4og-",
        "colab": {
          "base_uri": "https://localhost:8080/"
        },
        "outputId": "aed59bda-8998-443a-bbcb-a8d5f9358023"
      },
      "id": "4OoQnkpE4og-",
      "execution_count": 97,
      "outputs": [
        {
          "output_type": "stream",
          "name": "stdout",
          "text": [
            "1472/1472 [==============================] - 3s 2ms/step\n"
          ]
        }
      ]
    },
    {
      "cell_type": "code",
      "source": [
        "l = 0.2\n",
        "while l < 0.7:\n",
        "  y_r = y_res > l\n",
        "  print(f1_score(y_tests, y_r))\n",
        "  l += 0.01"
      ],
      "metadata": {
        "id": "ZJRML86a4qSD",
        "colab": {
          "base_uri": "https://localhost:8080/"
        },
        "outputId": "5e6d75c5-c327-455a-f8ff-b7235af89d7b"
      },
      "id": "ZJRML86a4qSD",
      "execution_count": 98,
      "outputs": [
        {
          "output_type": "stream",
          "name": "stdout",
          "text": [
            "0.2902865649423149\n",
            "0.3251451540866458\n",
            "0.3272892112420671\n",
            "0.33195402298850574\n",
            "0.3426103646833013\n",
            "0.3453658536585366\n",
            "0.3464955577492596\n",
            "0.3487792725460887\n",
            "0.3512293025589563\n",
            "0.35492095869454354\n",
            "0.3574380165289256\n",
            "0.35808320168509744\n",
            "0.36236559139784946\n",
            "0.3631376851343938\n",
            "0.3675977653631285\n",
            "0.37032842582106457\n",
            "0.3761574074074074\n",
            "0.3780271707028942\n",
            "0.3829018663455749\n",
            "0.3848039215686275\n",
            "0.3875\n",
            "0.38881829733163914\n",
            "0.389391979301423\n",
            "0.3923633969716919\n",
            "0.39381720430107525\n",
            "0.39809134287661896\n",
            "0.40083507306889354\n",
            "0.4014035087719298\n",
            "0.40228245363766046\n",
            "0.3982621288921071\n",
            "0.39674315321983716\n",
            "0.3958020989505247\n",
            "0.39083969465648855\n",
            "0.3910355486862442\n",
            "0.39274447949526814\n",
            "0.39420756234915527\n",
            "0.3967213114754098\n",
            "0.3875838926174497\n",
            "0.3918228279386712\n",
            "0.3871527777777778\n",
            "0.38237885462555066\n",
            "0.37455197132616486\n",
            "0.3713768115942029\n",
            "0.3683241252302026\n",
            "0.3709226467847157\n",
            "0.36672967863894135\n",
            "0.3634615384615385\n",
            "0.36184857423795475\n",
            "0.35856573705179284\n",
            "0.35845213849287166\n"
          ]
        }
      ]
    },
    {
      "cell_type": "code",
      "source": [
        "y_res = model.predict(X_train.toarray())"
      ],
      "metadata": {
        "id": "u84eI6XI4s03",
        "colab": {
          "base_uri": "https://localhost:8080/",
          "height": 328
        },
        "outputId": "67c14fc5-3a59-4b92-9cf7-373a7b5415e5"
      },
      "id": "u84eI6XI4s03",
      "execution_count": 99,
      "outputs": [
        {
          "output_type": "stream",
          "name": "stdout",
          "text": [
            " 7360/27952 [======>.......................] - ETA: 29s"
          ]
        },
        {
          "output_type": "error",
          "ename": "KeyboardInterrupt",
          "evalue": "ignored",
          "traceback": [
            "\u001b[0;31m---------------------------------------------------------------------------\u001b[0m",
            "\u001b[0;31mKeyboardInterrupt\u001b[0m                         Traceback (most recent call last)",
            "\u001b[0;32m<ipython-input-99-0fa8477fc411>\u001b[0m in \u001b[0;36m<module>\u001b[0;34m\u001b[0m\n\u001b[0;32m----> 1\u001b[0;31m \u001b[0my_res\u001b[0m \u001b[0;34m=\u001b[0m \u001b[0mmodel\u001b[0m\u001b[0;34m.\u001b[0m\u001b[0mpredict\u001b[0m\u001b[0;34m(\u001b[0m\u001b[0mX_train\u001b[0m\u001b[0;34m.\u001b[0m\u001b[0mtoarray\u001b[0m\u001b[0;34m(\u001b[0m\u001b[0;34m)\u001b[0m\u001b[0;34m)\u001b[0m\u001b[0;34m\u001b[0m\u001b[0;34m\u001b[0m\u001b[0m\n\u001b[0m",
            "\u001b[0;32m/usr/local/lib/python3.7/dist-packages/keras/utils/traceback_utils.py\u001b[0m in \u001b[0;36merror_handler\u001b[0;34m(*args, **kwargs)\u001b[0m\n\u001b[1;32m     62\u001b[0m     \u001b[0mfiltered_tb\u001b[0m \u001b[0;34m=\u001b[0m \u001b[0;32mNone\u001b[0m\u001b[0;34m\u001b[0m\u001b[0;34m\u001b[0m\u001b[0m\n\u001b[1;32m     63\u001b[0m     \u001b[0;32mtry\u001b[0m\u001b[0;34m:\u001b[0m\u001b[0;34m\u001b[0m\u001b[0;34m\u001b[0m\u001b[0m\n\u001b[0;32m---> 64\u001b[0;31m       \u001b[0;32mreturn\u001b[0m \u001b[0mfn\u001b[0m\u001b[0;34m(\u001b[0m\u001b[0;34m*\u001b[0m\u001b[0margs\u001b[0m\u001b[0;34m,\u001b[0m \u001b[0;34m**\u001b[0m\u001b[0mkwargs\u001b[0m\u001b[0;34m)\u001b[0m\u001b[0;34m\u001b[0m\u001b[0;34m\u001b[0m\u001b[0m\n\u001b[0m\u001b[1;32m     65\u001b[0m     \u001b[0;32mexcept\u001b[0m \u001b[0mException\u001b[0m \u001b[0;32mas\u001b[0m \u001b[0me\u001b[0m\u001b[0;34m:\u001b[0m  \u001b[0;31m# pylint: disable=broad-except\u001b[0m\u001b[0;34m\u001b[0m\u001b[0;34m\u001b[0m\u001b[0m\n\u001b[1;32m     66\u001b[0m       \u001b[0mfiltered_tb\u001b[0m \u001b[0;34m=\u001b[0m \u001b[0m_process_traceback_frames\u001b[0m\u001b[0;34m(\u001b[0m\u001b[0me\u001b[0m\u001b[0;34m.\u001b[0m\u001b[0m__traceback__\u001b[0m\u001b[0;34m)\u001b[0m\u001b[0;34m\u001b[0m\u001b[0;34m\u001b[0m\u001b[0m\n",
            "\u001b[0;32m/usr/local/lib/python3.7/dist-packages/keras/engine/training.py\u001b[0m in \u001b[0;36mpredict\u001b[0;34m(self, x, batch_size, verbose, steps, callbacks, max_queue_size, workers, use_multiprocessing)\u001b[0m\n\u001b[1;32m   2031\u001b[0m           \u001b[0;32mfor\u001b[0m \u001b[0mstep\u001b[0m \u001b[0;32min\u001b[0m \u001b[0mdata_handler\u001b[0m\u001b[0;34m.\u001b[0m\u001b[0msteps\u001b[0m\u001b[0;34m(\u001b[0m\u001b[0;34m)\u001b[0m\u001b[0;34m:\u001b[0m\u001b[0;34m\u001b[0m\u001b[0;34m\u001b[0m\u001b[0m\n\u001b[1;32m   2032\u001b[0m             \u001b[0mcallbacks\u001b[0m\u001b[0;34m.\u001b[0m\u001b[0mon_predict_batch_begin\u001b[0m\u001b[0;34m(\u001b[0m\u001b[0mstep\u001b[0m\u001b[0;34m)\u001b[0m\u001b[0;34m\u001b[0m\u001b[0;34m\u001b[0m\u001b[0m\n\u001b[0;32m-> 2033\u001b[0;31m             \u001b[0mtmp_batch_outputs\u001b[0m \u001b[0;34m=\u001b[0m \u001b[0mself\u001b[0m\u001b[0;34m.\u001b[0m\u001b[0mpredict_function\u001b[0m\u001b[0;34m(\u001b[0m\u001b[0miterator\u001b[0m\u001b[0;34m)\u001b[0m\u001b[0;34m\u001b[0m\u001b[0;34m\u001b[0m\u001b[0m\n\u001b[0m\u001b[1;32m   2034\u001b[0m             \u001b[0;32mif\u001b[0m \u001b[0mdata_handler\u001b[0m\u001b[0;34m.\u001b[0m\u001b[0mshould_sync\u001b[0m\u001b[0;34m:\u001b[0m\u001b[0;34m\u001b[0m\u001b[0;34m\u001b[0m\u001b[0m\n\u001b[1;32m   2035\u001b[0m               \u001b[0mcontext\u001b[0m\u001b[0;34m.\u001b[0m\u001b[0masync_wait\u001b[0m\u001b[0;34m(\u001b[0m\u001b[0;34m)\u001b[0m\u001b[0;34m\u001b[0m\u001b[0;34m\u001b[0m\u001b[0m\n",
            "\u001b[0;32m/usr/local/lib/python3.7/dist-packages/tensorflow/python/util/traceback_utils.py\u001b[0m in \u001b[0;36merror_handler\u001b[0;34m(*args, **kwargs)\u001b[0m\n\u001b[1;32m    148\u001b[0m     \u001b[0mfiltered_tb\u001b[0m \u001b[0;34m=\u001b[0m \u001b[0;32mNone\u001b[0m\u001b[0;34m\u001b[0m\u001b[0;34m\u001b[0m\u001b[0m\n\u001b[1;32m    149\u001b[0m     \u001b[0;32mtry\u001b[0m\u001b[0;34m:\u001b[0m\u001b[0;34m\u001b[0m\u001b[0;34m\u001b[0m\u001b[0m\n\u001b[0;32m--> 150\u001b[0;31m       \u001b[0;32mreturn\u001b[0m \u001b[0mfn\u001b[0m\u001b[0;34m(\u001b[0m\u001b[0;34m*\u001b[0m\u001b[0margs\u001b[0m\u001b[0;34m,\u001b[0m \u001b[0;34m**\u001b[0m\u001b[0mkwargs\u001b[0m\u001b[0;34m)\u001b[0m\u001b[0;34m\u001b[0m\u001b[0;34m\u001b[0m\u001b[0m\n\u001b[0m\u001b[1;32m    151\u001b[0m     \u001b[0;32mexcept\u001b[0m \u001b[0mException\u001b[0m \u001b[0;32mas\u001b[0m \u001b[0me\u001b[0m\u001b[0;34m:\u001b[0m\u001b[0;34m\u001b[0m\u001b[0;34m\u001b[0m\u001b[0m\n\u001b[1;32m    152\u001b[0m       \u001b[0mfiltered_tb\u001b[0m \u001b[0;34m=\u001b[0m \u001b[0m_process_traceback_frames\u001b[0m\u001b[0;34m(\u001b[0m\u001b[0me\u001b[0m\u001b[0;34m.\u001b[0m\u001b[0m__traceback__\u001b[0m\u001b[0;34m)\u001b[0m\u001b[0;34m\u001b[0m\u001b[0;34m\u001b[0m\u001b[0m\n",
            "\u001b[0;32m/usr/local/lib/python3.7/dist-packages/tensorflow/python/eager/def_function.py\u001b[0m in \u001b[0;36m__call__\u001b[0;34m(self, *args, **kwds)\u001b[0m\n\u001b[1;32m    913\u001b[0m \u001b[0;34m\u001b[0m\u001b[0m\n\u001b[1;32m    914\u001b[0m       \u001b[0;32mwith\u001b[0m \u001b[0mOptionalXlaContext\u001b[0m\u001b[0;34m(\u001b[0m\u001b[0mself\u001b[0m\u001b[0;34m.\u001b[0m\u001b[0m_jit_compile\u001b[0m\u001b[0;34m)\u001b[0m\u001b[0;34m:\u001b[0m\u001b[0;34m\u001b[0m\u001b[0;34m\u001b[0m\u001b[0m\n\u001b[0;32m--> 915\u001b[0;31m         \u001b[0mresult\u001b[0m \u001b[0;34m=\u001b[0m \u001b[0mself\u001b[0m\u001b[0;34m.\u001b[0m\u001b[0m_call\u001b[0m\u001b[0;34m(\u001b[0m\u001b[0;34m*\u001b[0m\u001b[0margs\u001b[0m\u001b[0;34m,\u001b[0m \u001b[0;34m**\u001b[0m\u001b[0mkwds\u001b[0m\u001b[0;34m)\u001b[0m\u001b[0;34m\u001b[0m\u001b[0;34m\u001b[0m\u001b[0m\n\u001b[0m\u001b[1;32m    916\u001b[0m \u001b[0;34m\u001b[0m\u001b[0m\n\u001b[1;32m    917\u001b[0m       \u001b[0mnew_tracing_count\u001b[0m \u001b[0;34m=\u001b[0m \u001b[0mself\u001b[0m\u001b[0;34m.\u001b[0m\u001b[0mexperimental_get_tracing_count\u001b[0m\u001b[0;34m(\u001b[0m\u001b[0;34m)\u001b[0m\u001b[0;34m\u001b[0m\u001b[0;34m\u001b[0m\u001b[0m\n",
            "\u001b[0;32m/usr/local/lib/python3.7/dist-packages/tensorflow/python/eager/def_function.py\u001b[0m in \u001b[0;36m_call\u001b[0;34m(self, *args, **kwds)\u001b[0m\n\u001b[1;32m    952\u001b[0m       \u001b[0;31m# In this case we have not created variables on the first call. So we can\u001b[0m\u001b[0;34m\u001b[0m\u001b[0;34m\u001b[0m\u001b[0;34m\u001b[0m\u001b[0m\n\u001b[1;32m    953\u001b[0m       \u001b[0;31m# run the first trace but we should fail if variables are created.\u001b[0m\u001b[0;34m\u001b[0m\u001b[0;34m\u001b[0m\u001b[0;34m\u001b[0m\u001b[0m\n\u001b[0;32m--> 954\u001b[0;31m       \u001b[0mresults\u001b[0m \u001b[0;34m=\u001b[0m \u001b[0mself\u001b[0m\u001b[0;34m.\u001b[0m\u001b[0m_stateful_fn\u001b[0m\u001b[0;34m(\u001b[0m\u001b[0;34m*\u001b[0m\u001b[0margs\u001b[0m\u001b[0;34m,\u001b[0m \u001b[0;34m**\u001b[0m\u001b[0mkwds\u001b[0m\u001b[0;34m)\u001b[0m\u001b[0;34m\u001b[0m\u001b[0;34m\u001b[0m\u001b[0m\n\u001b[0m\u001b[1;32m    955\u001b[0m       \u001b[0;32mif\u001b[0m \u001b[0mself\u001b[0m\u001b[0;34m.\u001b[0m\u001b[0m_created_variables\u001b[0m \u001b[0;32mand\u001b[0m \u001b[0;32mnot\u001b[0m \u001b[0mALLOW_DYNAMIC_VARIABLE_CREATION\u001b[0m\u001b[0;34m:\u001b[0m\u001b[0;34m\u001b[0m\u001b[0;34m\u001b[0m\u001b[0m\n\u001b[1;32m    956\u001b[0m         raise ValueError(\"Creating variables on a non-first call to a function\"\n",
            "\u001b[0;32m/usr/local/lib/python3.7/dist-packages/tensorflow/python/eager/function.py\u001b[0m in \u001b[0;36m__call__\u001b[0;34m(self, *args, **kwargs)\u001b[0m\n\u001b[1;32m   2452\u001b[0m        filtered_flat_args) = self._maybe_define_function(args, kwargs)\n\u001b[1;32m   2453\u001b[0m     return graph_function._call_flat(\n\u001b[0;32m-> 2454\u001b[0;31m         filtered_flat_args, captured_inputs=graph_function.captured_inputs)  # pylint: disable=protected-access\n\u001b[0m\u001b[1;32m   2455\u001b[0m \u001b[0;34m\u001b[0m\u001b[0m\n\u001b[1;32m   2456\u001b[0m   \u001b[0;34m@\u001b[0m\u001b[0mproperty\u001b[0m\u001b[0;34m\u001b[0m\u001b[0;34m\u001b[0m\u001b[0m\n",
            "\u001b[0;32m/usr/local/lib/python3.7/dist-packages/tensorflow/python/eager/function.py\u001b[0m in \u001b[0;36m_call_flat\u001b[0;34m(self, args, captured_inputs, cancellation_manager)\u001b[0m\n\u001b[1;32m   1859\u001b[0m       \u001b[0;31m# No tape is watching; skip to running the function.\u001b[0m\u001b[0;34m\u001b[0m\u001b[0;34m\u001b[0m\u001b[0;34m\u001b[0m\u001b[0m\n\u001b[1;32m   1860\u001b[0m       return self._build_call_outputs(self._inference_function.call(\n\u001b[0;32m-> 1861\u001b[0;31m           ctx, args, cancellation_manager=cancellation_manager))\n\u001b[0m\u001b[1;32m   1862\u001b[0m     forward_backward = self._select_forward_and_backward_functions(\n\u001b[1;32m   1863\u001b[0m         \u001b[0margs\u001b[0m\u001b[0;34m,\u001b[0m\u001b[0;34m\u001b[0m\u001b[0;34m\u001b[0m\u001b[0m\n",
            "\u001b[0;32m/usr/local/lib/python3.7/dist-packages/tensorflow/python/eager/function.py\u001b[0m in \u001b[0;36mcall\u001b[0;34m(self, ctx, args, cancellation_manager)\u001b[0m\n\u001b[1;32m    500\u001b[0m               \u001b[0minputs\u001b[0m\u001b[0;34m=\u001b[0m\u001b[0margs\u001b[0m\u001b[0;34m,\u001b[0m\u001b[0;34m\u001b[0m\u001b[0;34m\u001b[0m\u001b[0m\n\u001b[1;32m    501\u001b[0m               \u001b[0mattrs\u001b[0m\u001b[0;34m=\u001b[0m\u001b[0mattrs\u001b[0m\u001b[0;34m,\u001b[0m\u001b[0;34m\u001b[0m\u001b[0;34m\u001b[0m\u001b[0m\n\u001b[0;32m--> 502\u001b[0;31m               ctx=ctx)\n\u001b[0m\u001b[1;32m    503\u001b[0m         \u001b[0;32melse\u001b[0m\u001b[0;34m:\u001b[0m\u001b[0;34m\u001b[0m\u001b[0;34m\u001b[0m\u001b[0m\n\u001b[1;32m    504\u001b[0m           outputs = execute.execute_with_cancellation(\n",
            "\u001b[0;32m/usr/local/lib/python3.7/dist-packages/tensorflow/python/eager/execute.py\u001b[0m in \u001b[0;36mquick_execute\u001b[0;34m(op_name, num_outputs, inputs, attrs, ctx, name)\u001b[0m\n\u001b[1;32m     53\u001b[0m     \u001b[0mctx\u001b[0m\u001b[0;34m.\u001b[0m\u001b[0mensure_initialized\u001b[0m\u001b[0;34m(\u001b[0m\u001b[0;34m)\u001b[0m\u001b[0;34m\u001b[0m\u001b[0;34m\u001b[0m\u001b[0m\n\u001b[1;32m     54\u001b[0m     tensors = pywrap_tfe.TFE_Py_Execute(ctx._handle, device_name, op_name,\n\u001b[0;32m---> 55\u001b[0;31m                                         inputs, attrs, num_outputs)\n\u001b[0m\u001b[1;32m     56\u001b[0m   \u001b[0;32mexcept\u001b[0m \u001b[0mcore\u001b[0m\u001b[0;34m.\u001b[0m\u001b[0m_NotOkStatusException\u001b[0m \u001b[0;32mas\u001b[0m \u001b[0me\u001b[0m\u001b[0;34m:\u001b[0m\u001b[0;34m\u001b[0m\u001b[0;34m\u001b[0m\u001b[0m\n\u001b[1;32m     57\u001b[0m     \u001b[0;32mif\u001b[0m \u001b[0mname\u001b[0m \u001b[0;32mis\u001b[0m \u001b[0;32mnot\u001b[0m \u001b[0;32mNone\u001b[0m\u001b[0;34m:\u001b[0m\u001b[0;34m\u001b[0m\u001b[0;34m\u001b[0m\u001b[0m\n",
            "\u001b[0;31mKeyboardInterrupt\u001b[0m: "
          ]
        }
      ]
    },
    {
      "cell_type": "code",
      "source": [
        "y_r = y_res > 0.47\n",
        "print(f1_score(y_train, y_r))"
      ],
      "metadata": {
        "id": "YhbfrR5ymFqb",
        "colab": {
          "base_uri": "https://localhost:8080/",
          "height": 328
        },
        "outputId": "c29d1f81-8a6b-4a0f-f36c-597f359a4e14"
      },
      "id": "YhbfrR5ymFqb",
      "execution_count": 101,
      "outputs": [
        {
          "output_type": "error",
          "ename": "ValueError",
          "evalue": "ignored",
          "traceback": [
            "\u001b[0;31m---------------------------------------------------------------------------\u001b[0m",
            "\u001b[0;31mValueError\u001b[0m                                Traceback (most recent call last)",
            "\u001b[0;32m<ipython-input-101-bc965be06648>\u001b[0m in \u001b[0;36m<module>\u001b[0;34m\u001b[0m\n\u001b[1;32m      1\u001b[0m \u001b[0my_r\u001b[0m \u001b[0;34m=\u001b[0m \u001b[0my_res\u001b[0m \u001b[0;34m>\u001b[0m \u001b[0;36m0.47\u001b[0m\u001b[0;34m\u001b[0m\u001b[0;34m\u001b[0m\u001b[0m\n\u001b[0;32m----> 2\u001b[0;31m \u001b[0mprint\u001b[0m\u001b[0;34m(\u001b[0m\u001b[0mf1_score\u001b[0m\u001b[0;34m(\u001b[0m\u001b[0my_train\u001b[0m\u001b[0;34m,\u001b[0m \u001b[0my_r\u001b[0m\u001b[0;34m)\u001b[0m\u001b[0;34m)\u001b[0m\u001b[0;34m\u001b[0m\u001b[0;34m\u001b[0m\u001b[0m\n\u001b[0m",
            "\u001b[0;32m/usr/local/lib/python3.7/dist-packages/sklearn/metrics/_classification.py\u001b[0m in \u001b[0;36mf1_score\u001b[0;34m(y_true, y_pred, labels, pos_label, average, sample_weight, zero_division)\u001b[0m\n\u001b[1;32m   1129\u001b[0m         \u001b[0maverage\u001b[0m\u001b[0;34m=\u001b[0m\u001b[0maverage\u001b[0m\u001b[0;34m,\u001b[0m\u001b[0;34m\u001b[0m\u001b[0;34m\u001b[0m\u001b[0m\n\u001b[1;32m   1130\u001b[0m         \u001b[0msample_weight\u001b[0m\u001b[0;34m=\u001b[0m\u001b[0msample_weight\u001b[0m\u001b[0;34m,\u001b[0m\u001b[0;34m\u001b[0m\u001b[0;34m\u001b[0m\u001b[0m\n\u001b[0;32m-> 1131\u001b[0;31m         \u001b[0mzero_division\u001b[0m\u001b[0;34m=\u001b[0m\u001b[0mzero_division\u001b[0m\u001b[0;34m,\u001b[0m\u001b[0;34m\u001b[0m\u001b[0;34m\u001b[0m\u001b[0m\n\u001b[0m\u001b[1;32m   1132\u001b[0m     )\n\u001b[1;32m   1133\u001b[0m \u001b[0;34m\u001b[0m\u001b[0m\n",
            "\u001b[0;32m/usr/local/lib/python3.7/dist-packages/sklearn/metrics/_classification.py\u001b[0m in \u001b[0;36mfbeta_score\u001b[0;34m(y_true, y_pred, beta, labels, pos_label, average, sample_weight, zero_division)\u001b[0m\n\u001b[1;32m   1268\u001b[0m         \u001b[0mwarn_for\u001b[0m\u001b[0;34m=\u001b[0m\u001b[0;34m(\u001b[0m\u001b[0;34m\"f-score\"\u001b[0m\u001b[0;34m,\u001b[0m\u001b[0;34m)\u001b[0m\u001b[0;34m,\u001b[0m\u001b[0;34m\u001b[0m\u001b[0;34m\u001b[0m\u001b[0m\n\u001b[1;32m   1269\u001b[0m         \u001b[0msample_weight\u001b[0m\u001b[0;34m=\u001b[0m\u001b[0msample_weight\u001b[0m\u001b[0;34m,\u001b[0m\u001b[0;34m\u001b[0m\u001b[0;34m\u001b[0m\u001b[0m\n\u001b[0;32m-> 1270\u001b[0;31m         \u001b[0mzero_division\u001b[0m\u001b[0;34m=\u001b[0m\u001b[0mzero_division\u001b[0m\u001b[0;34m,\u001b[0m\u001b[0;34m\u001b[0m\u001b[0;34m\u001b[0m\u001b[0m\n\u001b[0m\u001b[1;32m   1271\u001b[0m     )\n\u001b[1;32m   1272\u001b[0m     \u001b[0;32mreturn\u001b[0m \u001b[0mf\u001b[0m\u001b[0;34m\u001b[0m\u001b[0;34m\u001b[0m\u001b[0m\n",
            "\u001b[0;32m/usr/local/lib/python3.7/dist-packages/sklearn/metrics/_classification.py\u001b[0m in \u001b[0;36mprecision_recall_fscore_support\u001b[0;34m(y_true, y_pred, beta, labels, pos_label, average, warn_for, sample_weight, zero_division)\u001b[0m\n\u001b[1;32m   1542\u001b[0m     \u001b[0;32mif\u001b[0m \u001b[0mbeta\u001b[0m \u001b[0;34m<\u001b[0m \u001b[0;36m0\u001b[0m\u001b[0;34m:\u001b[0m\u001b[0;34m\u001b[0m\u001b[0;34m\u001b[0m\u001b[0m\n\u001b[1;32m   1543\u001b[0m         \u001b[0;32mraise\u001b[0m \u001b[0mValueError\u001b[0m\u001b[0;34m(\u001b[0m\u001b[0;34m\"beta should be >=0 in the F-beta score\"\u001b[0m\u001b[0;34m)\u001b[0m\u001b[0;34m\u001b[0m\u001b[0;34m\u001b[0m\u001b[0m\n\u001b[0;32m-> 1544\u001b[0;31m     \u001b[0mlabels\u001b[0m \u001b[0;34m=\u001b[0m \u001b[0m_check_set_wise_labels\u001b[0m\u001b[0;34m(\u001b[0m\u001b[0my_true\u001b[0m\u001b[0;34m,\u001b[0m \u001b[0my_pred\u001b[0m\u001b[0;34m,\u001b[0m \u001b[0maverage\u001b[0m\u001b[0;34m,\u001b[0m \u001b[0mlabels\u001b[0m\u001b[0;34m,\u001b[0m \u001b[0mpos_label\u001b[0m\u001b[0;34m)\u001b[0m\u001b[0;34m\u001b[0m\u001b[0;34m\u001b[0m\u001b[0m\n\u001b[0m\u001b[1;32m   1545\u001b[0m \u001b[0;34m\u001b[0m\u001b[0m\n\u001b[1;32m   1546\u001b[0m     \u001b[0;31m# Calculate tp_sum, pred_sum, true_sum ###\u001b[0m\u001b[0;34m\u001b[0m\u001b[0;34m\u001b[0m\u001b[0;34m\u001b[0m\u001b[0m\n",
            "\u001b[0;32m/usr/local/lib/python3.7/dist-packages/sklearn/metrics/_classification.py\u001b[0m in \u001b[0;36m_check_set_wise_labels\u001b[0;34m(y_true, y_pred, average, labels, pos_label)\u001b[0m\n\u001b[1;32m   1346\u001b[0m         \u001b[0;32mraise\u001b[0m \u001b[0mValueError\u001b[0m\u001b[0;34m(\u001b[0m\u001b[0;34m\"average has to be one of \"\u001b[0m \u001b[0;34m+\u001b[0m \u001b[0mstr\u001b[0m\u001b[0;34m(\u001b[0m\u001b[0maverage_options\u001b[0m\u001b[0;34m)\u001b[0m\u001b[0;34m)\u001b[0m\u001b[0;34m\u001b[0m\u001b[0;34m\u001b[0m\u001b[0m\n\u001b[1;32m   1347\u001b[0m \u001b[0;34m\u001b[0m\u001b[0m\n\u001b[0;32m-> 1348\u001b[0;31m     \u001b[0my_type\u001b[0m\u001b[0;34m,\u001b[0m \u001b[0my_true\u001b[0m\u001b[0;34m,\u001b[0m \u001b[0my_pred\u001b[0m \u001b[0;34m=\u001b[0m \u001b[0m_check_targets\u001b[0m\u001b[0;34m(\u001b[0m\u001b[0my_true\u001b[0m\u001b[0;34m,\u001b[0m \u001b[0my_pred\u001b[0m\u001b[0;34m)\u001b[0m\u001b[0;34m\u001b[0m\u001b[0;34m\u001b[0m\u001b[0m\n\u001b[0m\u001b[1;32m   1349\u001b[0m     \u001b[0;31m# Convert to Python primitive type to avoid NumPy type / Python str\u001b[0m\u001b[0;34m\u001b[0m\u001b[0;34m\u001b[0m\u001b[0;34m\u001b[0m\u001b[0m\n\u001b[1;32m   1350\u001b[0m     \u001b[0;31m# comparison. See https://github.com/numpy/numpy/issues/6784\u001b[0m\u001b[0;34m\u001b[0m\u001b[0;34m\u001b[0m\u001b[0;34m\u001b[0m\u001b[0m\n",
            "\u001b[0;32m/usr/local/lib/python3.7/dist-packages/sklearn/metrics/_classification.py\u001b[0m in \u001b[0;36m_check_targets\u001b[0;34m(y_true, y_pred)\u001b[0m\n\u001b[1;32m     82\u001b[0m     \u001b[0my_pred\u001b[0m \u001b[0;34m:\u001b[0m \u001b[0marray\u001b[0m \u001b[0;32mor\u001b[0m \u001b[0mindicator\u001b[0m \u001b[0mmatrix\u001b[0m\u001b[0;34m\u001b[0m\u001b[0;34m\u001b[0m\u001b[0m\n\u001b[1;32m     83\u001b[0m     \"\"\"\n\u001b[0;32m---> 84\u001b[0;31m     \u001b[0mcheck_consistent_length\u001b[0m\u001b[0;34m(\u001b[0m\u001b[0my_true\u001b[0m\u001b[0;34m,\u001b[0m \u001b[0my_pred\u001b[0m\u001b[0;34m)\u001b[0m\u001b[0;34m\u001b[0m\u001b[0;34m\u001b[0m\u001b[0m\n\u001b[0m\u001b[1;32m     85\u001b[0m     \u001b[0mtype_true\u001b[0m \u001b[0;34m=\u001b[0m \u001b[0mtype_of_target\u001b[0m\u001b[0;34m(\u001b[0m\u001b[0my_true\u001b[0m\u001b[0;34m)\u001b[0m\u001b[0;34m\u001b[0m\u001b[0;34m\u001b[0m\u001b[0m\n\u001b[1;32m     86\u001b[0m     \u001b[0mtype_pred\u001b[0m \u001b[0;34m=\u001b[0m \u001b[0mtype_of_target\u001b[0m\u001b[0;34m(\u001b[0m\u001b[0my_pred\u001b[0m\u001b[0;34m)\u001b[0m\u001b[0;34m\u001b[0m\u001b[0;34m\u001b[0m\u001b[0m\n",
            "\u001b[0;32m/usr/local/lib/python3.7/dist-packages/sklearn/utils/validation.py\u001b[0m in \u001b[0;36mcheck_consistent_length\u001b[0;34m(*arrays)\u001b[0m\n\u001b[1;32m    332\u001b[0m         raise ValueError(\n\u001b[1;32m    333\u001b[0m             \u001b[0;34m\"Found input variables with inconsistent numbers of samples: %r\"\u001b[0m\u001b[0;34m\u001b[0m\u001b[0;34m\u001b[0m\u001b[0m\n\u001b[0;32m--> 334\u001b[0;31m             \u001b[0;34m%\u001b[0m \u001b[0;34m[\u001b[0m\u001b[0mint\u001b[0m\u001b[0;34m(\u001b[0m\u001b[0ml\u001b[0m\u001b[0;34m)\u001b[0m \u001b[0;32mfor\u001b[0m \u001b[0ml\u001b[0m \u001b[0;32min\u001b[0m \u001b[0mlengths\u001b[0m\u001b[0;34m]\u001b[0m\u001b[0;34m\u001b[0m\u001b[0;34m\u001b[0m\u001b[0m\n\u001b[0m\u001b[1;32m    335\u001b[0m         )\n\u001b[1;32m    336\u001b[0m \u001b[0;34m\u001b[0m\u001b[0m\n",
            "\u001b[0;31mValueError\u001b[0m: Found input variables with inconsistent numbers of samples: [894454, 47077]"
          ]
        }
      ]
    },
    {
      "cell_type": "code",
      "source": [
        "data = pd.read_csv('test_data.csv')\n",
        "data"
      ],
      "metadata": {
        "colab": {
          "base_uri": "https://localhost:8080/",
          "height": 488
        },
        "id": "r8P_9079M-tU",
        "outputId": "5851ae20-743c-4011-e3ab-a50a9f29b21d"
      },
      "id": "r8P_9079M-tU",
      "execution_count": 102,
      "outputs": [
        {
          "output_type": "execute_result",
          "data": {
            "text/plain": [
              "        client_id  cato_code  gender  country  citizenship  age_days  \\\n",
              "0               2        2.0     1.0      0.0          0.0   17150.0   \n",
              "1               5        3.0     1.0      0.0          NaN   14278.0   \n",
              "2              10        4.0     1.0      0.0          NaN   19040.0   \n",
              "3              11        4.0     1.0      0.0          0.0   28811.0   \n",
              "4              27        NaN     0.0      0.0          0.0   26687.0   \n",
              "...           ...        ...     ...      ...          ...       ...   \n",
              "463734    4433589        NaN     NaN      NaN          NaN       NaN   \n",
              "463735    4438614        NaN     NaN      NaN          NaN       NaN   \n",
              "463736    4439677        NaN     NaN      NaN          NaN       NaN   \n",
              "463737    4443125        NaN     NaN      NaN          NaN       NaN   \n",
              "463738    4570143        NaN     NaN      NaN          NaN       NaN   \n",
              "\n",
              "        client_days  opsos_code  phone_digits  max_dup  ...  auth_count_10  \\\n",
              "0            1638.0         2.0           3.0      2.0  ...            NaN   \n",
              "1             416.0         3.0           6.0      1.0  ...            NaN   \n",
              "2             225.0         0.0           5.0      1.0  ...       0.033580   \n",
              "3            2919.0         NaN           NaN      NaN  ...            NaN   \n",
              "4            2919.0         0.0           6.0      1.0  ...       0.033581   \n",
              "...             ...         ...           ...      ...  ...            ...   \n",
              "463734          NaN         3.0           6.0      1.0  ...            NaN   \n",
              "463735          NaN         8.0           7.0      0.0  ...            NaN   \n",
              "463736          NaN         4.0           6.0      1.0  ...       0.033580   \n",
              "463737          NaN        11.0           6.0      1.0  ...            NaN   \n",
              "463738          NaN         NaN           NaN      NaN  ...            NaN   \n",
              "\n",
              "       salary_10  transfers_amount_in_8  transfers_count_in_8  \\\n",
              "0            NaN                    NaN                   NaN   \n",
              "1            NaN                    NaN                   NaN   \n",
              "2            NaN                    NaN                   NaN   \n",
              "3            NaN                    NaN                   NaN   \n",
              "4            NaN                    NaN                   NaN   \n",
              "...          ...                    ...                   ...   \n",
              "463734       NaN                    NaN                   NaN   \n",
              "463735       NaN                    NaN                   NaN   \n",
              "463736       NaN                    NaN                   NaN   \n",
              "463737       NaN                    NaN                   NaN   \n",
              "463738       NaN                    NaN                   NaN   \n",
              "\n",
              "        transfers_amount_out_8  transfers_count_out_8  transactions_amount_8  \\\n",
              "0                          NaN                    NaN                    NaN   \n",
              "1                          NaN                    NaN                    NaN   \n",
              "2                          NaN                    NaN               0.057141   \n",
              "3                          NaN                    NaN                    NaN   \n",
              "4                          NaN                    NaN               0.157054   \n",
              "...                        ...                    ...                    ...   \n",
              "463734                     NaN                    NaN                    NaN   \n",
              "463735                     NaN                    NaN                    NaN   \n",
              "463736                     NaN                    NaN                    NaN   \n",
              "463737                     NaN                    NaN                    NaN   \n",
              "463738                     NaN                    NaN                    NaN   \n",
              "\n",
              "       transactions_count_8 auth_count_8  salary_8  \n",
              "0                       NaN          NaN       NaN  \n",
              "1                       NaN          NaN       NaN  \n",
              "2                  0.033580     0.033580       NaN  \n",
              "3                       NaN          NaN       NaN  \n",
              "4                  0.033583     0.033582       NaN  \n",
              "...                     ...          ...       ...  \n",
              "463734                  NaN          NaN       NaN  \n",
              "463735                  NaN          NaN       NaN  \n",
              "463736                  NaN          NaN       NaN  \n",
              "463737                  NaN          NaN       NaN  \n",
              "463738                  NaN          NaN       NaN  \n",
              "\n",
              "[463739 rows x 47 columns]"
            ],
            "text/html": [
              "\n",
              "  <div id=\"df-1e1c61f3-e2e8-429a-91ff-e879e9116a1c\">\n",
              "    <div class=\"colab-df-container\">\n",
              "      <div>\n",
              "<style scoped>\n",
              "    .dataframe tbody tr th:only-of-type {\n",
              "        vertical-align: middle;\n",
              "    }\n",
              "\n",
              "    .dataframe tbody tr th {\n",
              "        vertical-align: top;\n",
              "    }\n",
              "\n",
              "    .dataframe thead th {\n",
              "        text-align: right;\n",
              "    }\n",
              "</style>\n",
              "<table border=\"1\" class=\"dataframe\">\n",
              "  <thead>\n",
              "    <tr style=\"text-align: right;\">\n",
              "      <th></th>\n",
              "      <th>client_id</th>\n",
              "      <th>cato_code</th>\n",
              "      <th>gender</th>\n",
              "      <th>country</th>\n",
              "      <th>citizenship</th>\n",
              "      <th>age_days</th>\n",
              "      <th>client_days</th>\n",
              "      <th>opsos_code</th>\n",
              "      <th>phone_digits</th>\n",
              "      <th>max_dup</th>\n",
              "      <th>...</th>\n",
              "      <th>auth_count_10</th>\n",
              "      <th>salary_10</th>\n",
              "      <th>transfers_amount_in_8</th>\n",
              "      <th>transfers_count_in_8</th>\n",
              "      <th>transfers_amount_out_8</th>\n",
              "      <th>transfers_count_out_8</th>\n",
              "      <th>transactions_amount_8</th>\n",
              "      <th>transactions_count_8</th>\n",
              "      <th>auth_count_8</th>\n",
              "      <th>salary_8</th>\n",
              "    </tr>\n",
              "  </thead>\n",
              "  <tbody>\n",
              "    <tr>\n",
              "      <th>0</th>\n",
              "      <td>2</td>\n",
              "      <td>2.0</td>\n",
              "      <td>1.0</td>\n",
              "      <td>0.0</td>\n",
              "      <td>0.0</td>\n",
              "      <td>17150.0</td>\n",
              "      <td>1638.0</td>\n",
              "      <td>2.0</td>\n",
              "      <td>3.0</td>\n",
              "      <td>2.0</td>\n",
              "      <td>...</td>\n",
              "      <td>NaN</td>\n",
              "      <td>NaN</td>\n",
              "      <td>NaN</td>\n",
              "      <td>NaN</td>\n",
              "      <td>NaN</td>\n",
              "      <td>NaN</td>\n",
              "      <td>NaN</td>\n",
              "      <td>NaN</td>\n",
              "      <td>NaN</td>\n",
              "      <td>NaN</td>\n",
              "    </tr>\n",
              "    <tr>\n",
              "      <th>1</th>\n",
              "      <td>5</td>\n",
              "      <td>3.0</td>\n",
              "      <td>1.0</td>\n",
              "      <td>0.0</td>\n",
              "      <td>NaN</td>\n",
              "      <td>14278.0</td>\n",
              "      <td>416.0</td>\n",
              "      <td>3.0</td>\n",
              "      <td>6.0</td>\n",
              "      <td>1.0</td>\n",
              "      <td>...</td>\n",
              "      <td>NaN</td>\n",
              "      <td>NaN</td>\n",
              "      <td>NaN</td>\n",
              "      <td>NaN</td>\n",
              "      <td>NaN</td>\n",
              "      <td>NaN</td>\n",
              "      <td>NaN</td>\n",
              "      <td>NaN</td>\n",
              "      <td>NaN</td>\n",
              "      <td>NaN</td>\n",
              "    </tr>\n",
              "    <tr>\n",
              "      <th>2</th>\n",
              "      <td>10</td>\n",
              "      <td>4.0</td>\n",
              "      <td>1.0</td>\n",
              "      <td>0.0</td>\n",
              "      <td>NaN</td>\n",
              "      <td>19040.0</td>\n",
              "      <td>225.0</td>\n",
              "      <td>0.0</td>\n",
              "      <td>5.0</td>\n",
              "      <td>1.0</td>\n",
              "      <td>...</td>\n",
              "      <td>0.033580</td>\n",
              "      <td>NaN</td>\n",
              "      <td>NaN</td>\n",
              "      <td>NaN</td>\n",
              "      <td>NaN</td>\n",
              "      <td>NaN</td>\n",
              "      <td>0.057141</td>\n",
              "      <td>0.033580</td>\n",
              "      <td>0.033580</td>\n",
              "      <td>NaN</td>\n",
              "    </tr>\n",
              "    <tr>\n",
              "      <th>3</th>\n",
              "      <td>11</td>\n",
              "      <td>4.0</td>\n",
              "      <td>1.0</td>\n",
              "      <td>0.0</td>\n",
              "      <td>0.0</td>\n",
              "      <td>28811.0</td>\n",
              "      <td>2919.0</td>\n",
              "      <td>NaN</td>\n",
              "      <td>NaN</td>\n",
              "      <td>NaN</td>\n",
              "      <td>...</td>\n",
              "      <td>NaN</td>\n",
              "      <td>NaN</td>\n",
              "      <td>NaN</td>\n",
              "      <td>NaN</td>\n",
              "      <td>NaN</td>\n",
              "      <td>NaN</td>\n",
              "      <td>NaN</td>\n",
              "      <td>NaN</td>\n",
              "      <td>NaN</td>\n",
              "      <td>NaN</td>\n",
              "    </tr>\n",
              "    <tr>\n",
              "      <th>4</th>\n",
              "      <td>27</td>\n",
              "      <td>NaN</td>\n",
              "      <td>0.0</td>\n",
              "      <td>0.0</td>\n",
              "      <td>0.0</td>\n",
              "      <td>26687.0</td>\n",
              "      <td>2919.0</td>\n",
              "      <td>0.0</td>\n",
              "      <td>6.0</td>\n",
              "      <td>1.0</td>\n",
              "      <td>...</td>\n",
              "      <td>0.033581</td>\n",
              "      <td>NaN</td>\n",
              "      <td>NaN</td>\n",
              "      <td>NaN</td>\n",
              "      <td>NaN</td>\n",
              "      <td>NaN</td>\n",
              "      <td>0.157054</td>\n",
              "      <td>0.033583</td>\n",
              "      <td>0.033582</td>\n",
              "      <td>NaN</td>\n",
              "    </tr>\n",
              "    <tr>\n",
              "      <th>...</th>\n",
              "      <td>...</td>\n",
              "      <td>...</td>\n",
              "      <td>...</td>\n",
              "      <td>...</td>\n",
              "      <td>...</td>\n",
              "      <td>...</td>\n",
              "      <td>...</td>\n",
              "      <td>...</td>\n",
              "      <td>...</td>\n",
              "      <td>...</td>\n",
              "      <td>...</td>\n",
              "      <td>...</td>\n",
              "      <td>...</td>\n",
              "      <td>...</td>\n",
              "      <td>...</td>\n",
              "      <td>...</td>\n",
              "      <td>...</td>\n",
              "      <td>...</td>\n",
              "      <td>...</td>\n",
              "      <td>...</td>\n",
              "      <td>...</td>\n",
              "    </tr>\n",
              "    <tr>\n",
              "      <th>463734</th>\n",
              "      <td>4433589</td>\n",
              "      <td>NaN</td>\n",
              "      <td>NaN</td>\n",
              "      <td>NaN</td>\n",
              "      <td>NaN</td>\n",
              "      <td>NaN</td>\n",
              "      <td>NaN</td>\n",
              "      <td>3.0</td>\n",
              "      <td>6.0</td>\n",
              "      <td>1.0</td>\n",
              "      <td>...</td>\n",
              "      <td>NaN</td>\n",
              "      <td>NaN</td>\n",
              "      <td>NaN</td>\n",
              "      <td>NaN</td>\n",
              "      <td>NaN</td>\n",
              "      <td>NaN</td>\n",
              "      <td>NaN</td>\n",
              "      <td>NaN</td>\n",
              "      <td>NaN</td>\n",
              "      <td>NaN</td>\n",
              "    </tr>\n",
              "    <tr>\n",
              "      <th>463735</th>\n",
              "      <td>4438614</td>\n",
              "      <td>NaN</td>\n",
              "      <td>NaN</td>\n",
              "      <td>NaN</td>\n",
              "      <td>NaN</td>\n",
              "      <td>NaN</td>\n",
              "      <td>NaN</td>\n",
              "      <td>8.0</td>\n",
              "      <td>7.0</td>\n",
              "      <td>0.0</td>\n",
              "      <td>...</td>\n",
              "      <td>NaN</td>\n",
              "      <td>NaN</td>\n",
              "      <td>NaN</td>\n",
              "      <td>NaN</td>\n",
              "      <td>NaN</td>\n",
              "      <td>NaN</td>\n",
              "      <td>NaN</td>\n",
              "      <td>NaN</td>\n",
              "      <td>NaN</td>\n",
              "      <td>NaN</td>\n",
              "    </tr>\n",
              "    <tr>\n",
              "      <th>463736</th>\n",
              "      <td>4439677</td>\n",
              "      <td>NaN</td>\n",
              "      <td>NaN</td>\n",
              "      <td>NaN</td>\n",
              "      <td>NaN</td>\n",
              "      <td>NaN</td>\n",
              "      <td>NaN</td>\n",
              "      <td>4.0</td>\n",
              "      <td>6.0</td>\n",
              "      <td>1.0</td>\n",
              "      <td>...</td>\n",
              "      <td>0.033580</td>\n",
              "      <td>NaN</td>\n",
              "      <td>NaN</td>\n",
              "      <td>NaN</td>\n",
              "      <td>NaN</td>\n",
              "      <td>NaN</td>\n",
              "      <td>NaN</td>\n",
              "      <td>NaN</td>\n",
              "      <td>NaN</td>\n",
              "      <td>NaN</td>\n",
              "    </tr>\n",
              "    <tr>\n",
              "      <th>463737</th>\n",
              "      <td>4443125</td>\n",
              "      <td>NaN</td>\n",
              "      <td>NaN</td>\n",
              "      <td>NaN</td>\n",
              "      <td>NaN</td>\n",
              "      <td>NaN</td>\n",
              "      <td>NaN</td>\n",
              "      <td>11.0</td>\n",
              "      <td>6.0</td>\n",
              "      <td>1.0</td>\n",
              "      <td>...</td>\n",
              "      <td>NaN</td>\n",
              "      <td>NaN</td>\n",
              "      <td>NaN</td>\n",
              "      <td>NaN</td>\n",
              "      <td>NaN</td>\n",
              "      <td>NaN</td>\n",
              "      <td>NaN</td>\n",
              "      <td>NaN</td>\n",
              "      <td>NaN</td>\n",
              "      <td>NaN</td>\n",
              "    </tr>\n",
              "    <tr>\n",
              "      <th>463738</th>\n",
              "      <td>4570143</td>\n",
              "      <td>NaN</td>\n",
              "      <td>NaN</td>\n",
              "      <td>NaN</td>\n",
              "      <td>NaN</td>\n",
              "      <td>NaN</td>\n",
              "      <td>NaN</td>\n",
              "      <td>NaN</td>\n",
              "      <td>NaN</td>\n",
              "      <td>NaN</td>\n",
              "      <td>...</td>\n",
              "      <td>NaN</td>\n",
              "      <td>NaN</td>\n",
              "      <td>NaN</td>\n",
              "      <td>NaN</td>\n",
              "      <td>NaN</td>\n",
              "      <td>NaN</td>\n",
              "      <td>NaN</td>\n",
              "      <td>NaN</td>\n",
              "      <td>NaN</td>\n",
              "      <td>NaN</td>\n",
              "    </tr>\n",
              "  </tbody>\n",
              "</table>\n",
              "<p>463739 rows × 47 columns</p>\n",
              "</div>\n",
              "      <button class=\"colab-df-convert\" onclick=\"convertToInteractive('df-1e1c61f3-e2e8-429a-91ff-e879e9116a1c')\"\n",
              "              title=\"Convert this dataframe to an interactive table.\"\n",
              "              style=\"display:none;\">\n",
              "        \n",
              "  <svg xmlns=\"http://www.w3.org/2000/svg\" height=\"24px\"viewBox=\"0 0 24 24\"\n",
              "       width=\"24px\">\n",
              "    <path d=\"M0 0h24v24H0V0z\" fill=\"none\"/>\n",
              "    <path d=\"M18.56 5.44l.94 2.06.94-2.06 2.06-.94-2.06-.94-.94-2.06-.94 2.06-2.06.94zm-11 1L8.5 8.5l.94-2.06 2.06-.94-2.06-.94L8.5 2.5l-.94 2.06-2.06.94zm10 10l.94 2.06.94-2.06 2.06-.94-2.06-.94-.94-2.06-.94 2.06-2.06.94z\"/><path d=\"M17.41 7.96l-1.37-1.37c-.4-.4-.92-.59-1.43-.59-.52 0-1.04.2-1.43.59L10.3 9.45l-7.72 7.72c-.78.78-.78 2.05 0 2.83L4 21.41c.39.39.9.59 1.41.59.51 0 1.02-.2 1.41-.59l7.78-7.78 2.81-2.81c.8-.78.8-2.07 0-2.86zM5.41 20L4 18.59l7.72-7.72 1.47 1.35L5.41 20z\"/>\n",
              "  </svg>\n",
              "      </button>\n",
              "      \n",
              "  <style>\n",
              "    .colab-df-container {\n",
              "      display:flex;\n",
              "      flex-wrap:wrap;\n",
              "      gap: 12px;\n",
              "    }\n",
              "\n",
              "    .colab-df-convert {\n",
              "      background-color: #E8F0FE;\n",
              "      border: none;\n",
              "      border-radius: 50%;\n",
              "      cursor: pointer;\n",
              "      display: none;\n",
              "      fill: #1967D2;\n",
              "      height: 32px;\n",
              "      padding: 0 0 0 0;\n",
              "      width: 32px;\n",
              "    }\n",
              "\n",
              "    .colab-df-convert:hover {\n",
              "      background-color: #E2EBFA;\n",
              "      box-shadow: 0px 1px 2px rgba(60, 64, 67, 0.3), 0px 1px 3px 1px rgba(60, 64, 67, 0.15);\n",
              "      fill: #174EA6;\n",
              "    }\n",
              "\n",
              "    [theme=dark] .colab-df-convert {\n",
              "      background-color: #3B4455;\n",
              "      fill: #D2E3FC;\n",
              "    }\n",
              "\n",
              "    [theme=dark] .colab-df-convert:hover {\n",
              "      background-color: #434B5C;\n",
              "      box-shadow: 0px 1px 3px 1px rgba(0, 0, 0, 0.15);\n",
              "      filter: drop-shadow(0px 1px 2px rgba(0, 0, 0, 0.3));\n",
              "      fill: #FFFFFF;\n",
              "    }\n",
              "  </style>\n",
              "\n",
              "      <script>\n",
              "        const buttonEl =\n",
              "          document.querySelector('#df-1e1c61f3-e2e8-429a-91ff-e879e9116a1c button.colab-df-convert');\n",
              "        buttonEl.style.display =\n",
              "          google.colab.kernel.accessAllowed ? 'block' : 'none';\n",
              "\n",
              "        async function convertToInteractive(key) {\n",
              "          const element = document.querySelector('#df-1e1c61f3-e2e8-429a-91ff-e879e9116a1c');\n",
              "          const dataTable =\n",
              "            await google.colab.kernel.invokeFunction('convertToInteractive',\n",
              "                                                     [key], {});\n",
              "          if (!dataTable) return;\n",
              "\n",
              "          const docLinkHtml = 'Like what you see? Visit the ' +\n",
              "            '<a target=\"_blank\" href=https://colab.research.google.com/notebooks/data_table.ipynb>data table notebook</a>'\n",
              "            + ' to learn more about interactive tables.';\n",
              "          element.innerHTML = '';\n",
              "          dataTable['output_type'] = 'display_data';\n",
              "          await google.colab.output.renderOutput(dataTable, element);\n",
              "          const docLink = document.createElement('div');\n",
              "          docLink.innerHTML = docLinkHtml;\n",
              "          element.appendChild(docLink);\n",
              "        }\n",
              "      </script>\n",
              "    </div>\n",
              "  </div>\n",
              "  "
            ]
          },
          "metadata": {},
          "execution_count": 102
        }
      ]
    },
    {
      "cell_type": "code",
      "source": [
        "data['in_kaz'] = data['country'] == 0"
      ],
      "metadata": {
        "id": "4iPLG5l8NHs8"
      },
      "id": "4iPLG5l8NHs8",
      "execution_count": 103,
      "outputs": []
    },
    {
      "cell_type": "code",
      "source": [
        "#data[data.label == 1].groupby('citizenship').citizenship.count()"
      ],
      "metadata": {
        "id": "XebcqLpPNQhY"
      },
      "id": "XebcqLpPNQhY",
      "execution_count": 104,
      "outputs": []
    },
    {
      "cell_type": "code",
      "source": [
        "data['is_kaz'] = data['citizenship'] == 0"
      ],
      "metadata": {
        "id": "RGzj6lURNSUI"
      },
      "id": "RGzj6lURNSUI",
      "execution_count": 105,
      "outputs": []
    },
    {
      "cell_type": "code",
      "source": [
        "fillmedian = ['client_days', 'gender', 'client_days', 'age_days', 'opsos_code', 'phone_digits', 'max_dup']\n",
        "fillzero = ['cato_code', 'country', 'citizenship']"
      ],
      "metadata": {
        "id": "0bgd9graNZLb"
      },
      "id": "0bgd9graNZLb",
      "execution_count": 106,
      "outputs": []
    },
    {
      "cell_type": "code",
      "source": [
        "data.fillna(data[fillmedian].median(), inplace = True)"
      ],
      "metadata": {
        "id": "6iHBEmjONe-j"
      },
      "id": "6iHBEmjONe-j",
      "execution_count": 107,
      "outputs": []
    },
    {
      "cell_type": "code",
      "source": [
        "data[fillzero] = data[fillzero].fillna(0)"
      ],
      "metadata": {
        "id": "pzMQ44DXNipB"
      },
      "id": "pzMQ44DXNipB",
      "execution_count": 108,
      "outputs": []
    },
    {
      "cell_type": "code",
      "source": [
        "data['age'] = data['age_days'] / 365"
      ],
      "metadata": {
        "id": "znWmf4dCNn5X"
      },
      "id": "znWmf4dCNn5X",
      "execution_count": 109,
      "outputs": []
    },
    {
      "cell_type": "code",
      "source": [
        "data['is_child'] = data['age'] < 18\n",
        "data['is_adult'] = (data['age'] >= 18) & (data['age'] < 60)\n",
        "data['is_old'] = data['age'] >= 60"
      ],
      "metadata": {
        "id": "wrq1XLT7Nr6x"
      },
      "id": "wrq1XLT7Nr6x",
      "execution_count": 110,
      "outputs": []
    },
    {
      "cell_type": "code",
      "source": [
        "data['have_installment'] = (pd.isnull(data['monthly_installment']))\n",
        "data['have_deposit'] = (pd.isnull(data['deposit_sum_KZT']))\n",
        "data['have_deal'] = (pd.isnull(data['deal_sum_kzt_express']))\n",
        "data['have_product'] = (pd.isnull(data['deal_sum_kzt_product']))"
      ],
      "metadata": {
        "id": "sfwXW48RNsvd"
      },
      "id": "sfwXW48RNsvd",
      "execution_count": 111,
      "outputs": []
    },
    {
      "cell_type": "code",
      "source": [
        "data[['deal_sum_kzt_express', 'monthly_installment','transfers_amount_in_9', 'transfers_amount_in_10', 'transfers_amount_in_8',\n",
        "                  'transfers_count_in_9', 'transfers_count_in_10', 'transfers_count_in_8',\n",
        "                  'transfers_amount_out_9', 'transfers_amount_out_10', 'transfers_amount_out_8',\n",
        "                 'transfers_count_out_9', 'transfers_count_out_10', 'transfers_count_out_8',\n",
        "                  'transactions_amount_9', 'transactions_amount_10', 'transactions_amount_8',\n",
        "                  'transactions_count_9', 'transactions_count_10', 'transactions_count_8',\n",
        "                  'auth_count_9', 'auth_count_10', 'auth_count_8', \n",
        "                  'salary_9', 'salary_10', 'salary_8']] = data[['deal_sum_kzt_express', 'monthly_installment','transfers_amount_in_9', 'transfers_amount_in_10', 'transfers_amount_in_8',\n",
        "                  'transfers_count_in_9', 'transfers_count_in_10', 'transfers_count_in_8',\n",
        "                  'transfers_amount_out_9', 'transfers_amount_out_10', 'transfers_amount_out_8',\n",
        "                 'transfers_count_out_9', 'transfers_count_out_10', 'transfers_count_out_8',\n",
        "                  'transactions_amount_9', 'transactions_amount_10', 'transactions_amount_8',\n",
        "                'transactions_count_9', 'transactions_count_10', 'transactions_count_8',\n",
        "                  'auth_count_9', 'auth_count_10', 'auth_count_8', \n",
        "                  'salary_9', 'salary_10', 'salary_8']].fillna(0)"
      ],
      "metadata": {
        "id": "TbqmMzOeN8LO"
      },
      "id": "TbqmMzOeN8LO",
      "execution_count": 112,
      "outputs": []
    },
    {
      "cell_type": "code",
      "source": [
        "data['transfers_amount_in'] = data[['transfers_amount_in_9','transfers_amount_in_10','transfers_amount_in_8']].max(axis = 1)\n",
        "data['transfers_count_in'] = data[['transfers_count_in_9','transfers_count_in_10','transfers_count_in_8']].max(axis = 1)\n",
        "data['transfers_amount_out'] = data[['transfers_amount_out_9','transfers_amount_out_10','transfers_amount_out_8']].max(axis = 1)\n",
        "data['transfers_count_out'] = data[['transfers_count_out_9','transfers_count_out_10','transfers_count_out_8']].max(axis = 1)\n",
        "data['transactions_amount'] = data[['transactions_amount_9','transactions_amount_10','transactions_amount_8']].max(axis = 1)\n",
        "data['transactions_count'] = data[['transactions_count_9','transactions_count_10','transactions_count_8']].max(axis = 1)\n",
        "data['auth_count'] = data[['auth_count_9','auth_count_10','auth_count_8']].max(axis = 1)\n",
        "data['salary'] = data[['salary_9','salary_10','salary_8']].max(axis = 1)"
      ],
      "metadata": {
        "id": "dQV6i39xOBPG"
      },
      "id": "dQV6i39xOBPG",
      "execution_count": 113,
      "outputs": []
    },
    {
      "cell_type": "code",
      "source": [
        "data = data.drop(['transfers_amount_in_9', 'transfers_amount_in_10', 'transfers_amount_in_8',\n",
        "                  'transfers_count_in_9', 'transfers_count_in_10', 'transfers_count_in_8',\n",
        "                  'transfers_amount_out_9', 'transfers_amount_out_10', 'transfers_amount_out_8',\n",
        "                 'transfers_count_out_9', 'transfers_count_out_10', 'transfers_count_out_8',\n",
        "                  'transactions_amount_9', 'transactions_amount_10', 'transactions_amount_8',\n",
        "                'transactions_count_9', 'transactions_count_10', 'transactions_count_8',\n",
        "                  'auth_count_9', 'auth_count_10', 'auth_count_8', \n",
        "                  'salary_9', 'salary_10', 'salary_8'], axis=1)"
      ],
      "metadata": {
        "id": "9wmrhG_GOHQs"
      },
      "id": "9wmrhG_GOHQs",
      "execution_count": 114,
      "outputs": []
    },
    {
      "cell_type": "code",
      "source": [
        "data['date_close'] = pd.to_datetime(data['date_close'])\n",
        "data['date_close_year'] = 2022 - data['date_close'].dt.year\n",
        "data['date_close_month'] = data['date_close'].dt.month\n",
        "data = data.drop('date_close', axis=1)\n",
        "data['deal_start_date_express'] = pd.to_datetime(data['deal_start_date_express'])\n",
        "data['deal_start_date_express_year'] = 2022 - data['deal_start_date_express'].dt.year\n",
        "data['deal_start_date_express_month'] = data['deal_start_date_express'].dt.month\n",
        "data = data.drop('deal_start_date_express', axis=1)\n",
        "data['plan_end_date_express'] = pd.to_datetime(data['plan_end_date_express'])\n",
        "data['plan_end_date_express_year'] = 2022 - data['plan_end_date_express'].dt.year\n",
        "data['plan_end_date_express_month'] = data['plan_end_date_express'].dt.month\n",
        "data = data.drop('plan_end_date_express', axis=1)\n",
        "data['deal_start_date_product'] = pd.to_datetime(data['deal_start_date_product'])\n",
        "data['deal_start_date_product_year'] = 2022 -data['deal_start_date_product'].dt.year\n",
        "data['deal_start_date_product_month'] = data['deal_start_date_product'].dt.month\n",
        "data = data.drop('deal_start_date_product', axis=1)\n",
        "data['plan_end_date_product'] = pd.to_datetime(data['plan_end_date_product'])\n",
        "data['plan_end_date_product_year'] = 2022 - data['plan_end_date_product'].dt.year\n",
        "data['plan_end_date_product_month'] = data['plan_end_date_product'].dt.month\n",
        "data = data.drop('plan_end_date_product', axis=1)"
      ],
      "metadata": {
        "id": "yEr9rLAYOOR6"
      },
      "id": "yEr9rLAYOOR6",
      "execution_count": 115,
      "outputs": []
    },
    {
      "cell_type": "code",
      "source": [
        "data[['date_close_year', 'deal_start_date_express_year', 'plan_end_date_express_year',\n",
        "      'deal_start_date_product_year', 'plan_end_date_product_year']] = data[['date_close_year', 'deal_start_date_express_year', 'plan_end_date_express_year',\n",
        "      'deal_start_date_product_year', 'plan_end_date_product_year']].fillna(0)\n",
        "data[['date_close_month', 'deal_start_date_express_month', 'plan_end_date_express_month',\n",
        "      'deal_start_date_product_month', 'plan_end_date_product_month']] = data[['date_close_month', 'deal_start_date_express_month', 'plan_end_date_express_month',\n",
        "      'deal_start_date_product_month', 'plan_end_date_product_month']].fillna(0)"
      ],
      "metadata": {
        "id": "Uvmlu4k7ORhX"
      },
      "id": "Uvmlu4k7ORhX",
      "execution_count": 116,
      "outputs": []
    },
    {
      "cell_type": "code",
      "source": [
        "data[['deposit_sum_KZT', 'deposit_sum_USD', 'deposit_sum_EUR']] = data[['deposit_sum_KZT', 'deposit_sum_USD', 'deposit_sum_EUR']].fillna(0)"
      ],
      "metadata": {
        "id": "wO1_676jOZHL"
      },
      "id": "wO1_676jOZHL",
      "execution_count": 117,
      "outputs": []
    },
    {
      "cell_type": "code",
      "source": [
        "X = data[num_features+cat_features]\n",
        "X = preprocessor.fit_transform(X)"
      ],
      "metadata": {
        "id": "cWA76CYuOhKx"
      },
      "id": "cWA76CYuOhKx",
      "execution_count": 118,
      "outputs": []
    },
    {
      "cell_type": "code",
      "source": [
        "X.shape"
      ],
      "metadata": {
        "colab": {
          "base_uri": "https://localhost:8080/"
        },
        "id": "CY2KRr907sBT",
        "outputId": "cf4095b8-70d9-4c6a-e822-c9ea8b3dac4d"
      },
      "id": "CY2KRr907sBT",
      "execution_count": 119,
      "outputs": [
        {
          "output_type": "execute_result",
          "data": {
            "text/plain": [
              "(463739, 158)"
            ]
          },
          "metadata": {},
          "execution_count": 119
        }
      ]
    },
    {
      "cell_type": "code",
      "source": [
        "y = model.predict(X)"
      ],
      "metadata": {
        "colab": {
          "base_uri": "https://localhost:8080/"
        },
        "id": "gG9jCBtVOib8",
        "outputId": "51fe04e7-b9af-4cff-8925-18f8eb793d32"
      },
      "id": "gG9jCBtVOib8",
      "execution_count": 120,
      "outputs": [
        {
          "output_type": "stream",
          "name": "stdout",
          "text": [
            "14492/14492 [==============================] - 32s 2ms/step\n"
          ]
        }
      ]
    },
    {
      "cell_type": "code",
      "source": [
        "yr = y > 0.30"
      ],
      "metadata": {
        "id": "MG9CsTP3PE7u"
      },
      "id": "MG9CsTP3PE7u",
      "execution_count": 194,
      "outputs": []
    },
    {
      "cell_type": "code",
      "source": [
        "yr = 1*yr"
      ],
      "metadata": {
        "id": "zCx6AyBweLxt"
      },
      "id": "zCx6AyBweLxt",
      "execution_count": 195,
      "outputs": []
    },
    {
      "cell_type": "code",
      "source": [
        "yr"
      ],
      "metadata": {
        "colab": {
          "base_uri": "https://localhost:8080/"
        },
        "id": "isR3Mz-aeXah",
        "outputId": "d6b9fcff-9b15-4efb-c50b-b34bf9fa5712"
      },
      "id": "isR3Mz-aeXah",
      "execution_count": 196,
      "outputs": [
        {
          "output_type": "execute_result",
          "data": {
            "text/plain": [
              "array([[0],\n",
              "       [0],\n",
              "       [0],\n",
              "       ...,\n",
              "       [0],\n",
              "       [0],\n",
              "       [0]])"
            ]
          },
          "metadata": {},
          "execution_count": 196
        }
      ]
    },
    {
      "cell_type": "code",
      "source": [
        "data['target']=yr\n",
        "data['id'] = data['client_id']\n",
        "data.reset_index()[['id', 'target']].to_csv(\"outputf110.csv\", index=False)"
      ],
      "metadata": {
        "id": "pWHMPZvUPFJ_"
      },
      "id": "pWHMPZvUPFJ_",
      "execution_count": 199,
      "outputs": []
    },
    {
      "cell_type": "code",
      "source": [
        "data.groupby('target').target.count()"
      ],
      "metadata": {
        "colab": {
          "base_uri": "https://localhost:8080/"
        },
        "id": "i9bU3a0henKo",
        "outputId": "6d70cfd6-2e29-4cf9-d565-ee638fccbd63"
      },
      "id": "i9bU3a0henKo",
      "execution_count": 200,
      "outputs": [
        {
          "output_type": "execute_result",
          "data": {
            "text/plain": [
              "target\n",
              "0    457539\n",
              "1      6200\n",
              "Name: target, dtype: int64"
            ]
          },
          "metadata": {},
          "execution_count": 200
        }
      ]
    },
    {
      "cell_type": "code",
      "source": [],
      "metadata": {
        "id": "y4vZcMDteNfO"
      },
      "id": "y4vZcMDteNfO",
      "execution_count": 125,
      "outputs": []
    }
  ],
  "metadata": {
    "kernelspec": {
      "display_name": "Python 3 (ipykernel)",
      "language": "python",
      "name": "python3"
    },
    "language_info": {
      "codemirror_mode": {
        "name": "ipython",
        "version": 3
      },
      "file_extension": ".py",
      "mimetype": "text/x-python",
      "name": "python",
      "nbconvert_exporter": "python",
      "pygments_lexer": "ipython3",
      "version": "3.9.6"
    },
    "colab": {
      "provenance": []
    },
    "accelerator": "GPU",
    "gpuClass": "standard"
  },
  "nbformat": 4,
  "nbformat_minor": 5
}